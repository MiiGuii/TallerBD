{
 "cells": [
  {
   "cell_type": "markdown",
   "metadata": {},
   "source": [
    "### Unidad 2: Taller de análisis de datos textuales\n",
    "\n",
    "<h1> Notebook 1 - Introducción al tratamiento automático del lenguaje humano </h1>"
   ]
  },
  {
   "cell_type": "markdown",
   "metadata": {},
   "source": [
    "## 1. ¿Qué es el lenguaje humano?\n",
    "\n",
    "- Es un proceso de __comunicación__ entre humanos basado sobre un sistema complejo de signos\n",
    "\n",
    "- Es un proceso de __percepción__ del mundo\n",
    "\n",
    "¿Es posible pensar el mundo fuera del lenguaje? (ej: concepto de neolengua de George Orwell en la novela 1984, discursos póliticos y manipulación)\n",
    "\n",
    "- El lenguaje humano puede ser __verbal__ o __no verbal__\n",
    "\n",
    "- El lenguaje verbal puede ser __oral__ o __escrito__\n",
    "\n",
    "- Los humanos utilizan el lenguaje para cumplir 6 grandes tipos de función:\n",
    "    1. _expresar su subjetividad_ (opiniones, emociones, creencias, etc.). Ej: \"¡Me gusta la música!\", \"soy mejor que tú\", etc.\n",
    "    1. _solicitar que el interlocutor exprese su subjetividad_. Ej: \"¿Qué piensas?\", \"¿te \"gusta el deporte?\", etc.\n",
    "    1. _describir el mundo_. Ej: \"Hay una mesa y 4 sillas\", etc.\n",
    "    1. _activar o mantener la comunicación_. Ej: \"Hola\", \"Allo\", \"mmm\", \"eeeh\"\n",
    "    1. _ponerse de acuerdo sobre el sentido de un signo_. Ej: \"Hace frio significa que la temperatura es bajo 10°c\"\n",
    "    1. _comunicar por el placer de comunicar_. Ej: poesia, juegos de palabras, bromas lingúïsticas, etc.\n",
    "    \n",
    "\n",
    "- En conclusión, el lenguaje humano siempre se inscribe en una __situación de comunicación__, revela __explicatamente__ o __implicitamente__ el objetivo de comunicacion un locutor, dentro de un contexto particular. \n",
    "\n",
    "Ejemplo: <code>\"¿Viste como llueve?\"</code>\n",
    "\n",
    "¿Es una simple descripción del mundo o expresión de subjetividad para decir en realidad: \"¡deberías tomar tu paragua!\"?\n",
    "\n",
    "- El lenguaje humano tiene distinto nivel de interpretación:\n",
    "    - nivel __lexico-semántico__ : significado las palabras utilizadas.\n",
    "    - nivel __pragmático-discursivo__ : significado de estas palabras en su contexto.\n",
    "\n",
    "<code>\"Hemos realizados intervenciones quirúrgicas en afganistán\"</code>\n",
    "\n",
    "Busca significar que las intervenciones fueron las más limpias y precisas posibles, pero tambien busca ocultar que se trata de bombardeos y de violencia.\n",
    "       \n",
    "\n",
    "## 2. ¿Qué el Tratamiento Automático del Lenguaje (o _NLP_)?\n",
    "\n",
    "- Es una sub-disciplina de la Informática y de la Inteligencia Artificial que busca dotar los computadores de capacidad para entender, traducir y generar lenguaje humano a través de algoritmos y datos.\n",
    "\n",
    "- Es una disciplina antigua pero creciente dado el desarrollo de la comunicación en Internet y el desarrollo de las técnicas de Machine Learning/Deep Learning.\n",
    "\n",
    "- Problemas particulares del TAL en comparación con otras areas: __datos no estructurados__, __muchas(!!!) ambiguedades en los datos__, __problemas de grandes dimensiones__ (muchas variables posibles).\n",
    "\n",
    "- Tareas clásicas: Traducción Automática, Question-Answering, Análisis de opiniones y sentimientos, Extracción de información, Análisis del discurso, etc.\n",
    "\n",
    "- Tareas clásicas para el lenguaje oral: reconocimiento de las palabras, reconocimiento del locutor, etc.\n",
    "\n",
    "- Tarea para el lenguaje no verbal: reconocimiento des las emociones, reconocimiento de gestos, etc."
   ]
  },
  {
   "cell_type": "markdown",
   "metadata": {},
   "source": [
    "## 3. Recordatorio: manipulación de _ String_ en Python"
   ]
  },
  {
   "cell_type": "code",
   "execution_count": 1,
   "metadata": {},
   "outputs": [
    {
     "name": "stdout",
     "output_type": "stream",
     "text": [
      "El cuarto caracter del texto es: a\n",
      "El tamaño del texto es: 49\n"
     ]
    }
   ],
   "source": [
    "text = \"Hola Mundo. Bienvenido a la Unidad 3 - Notebook 1\"\n",
    "\n",
    "print(\"El cuarto caracter del texto es: \"+text[3])\n",
    "\n",
    "print(\"El tamaño del texto es: \"+str(len(text)))"
   ]
  },
  {
   "cell_type": "code",
   "execution_count": null,
   "metadata": {},
   "outputs": [],
   "source": [
    "print(\"Número de caracteres 'o' en el texto :\"+str(text.count(\"o\")))\n",
    "\n",
    "print(\"El próximo caracter 'o' se encuentra en posición :\"+ str(text.find(\"o\")))\n",
    "\n",
    "print(\"La palabra 'Mundo' aparece a partir de la posición :\" + str(text.index(\"Mundo\")))\n",
    "\n",
    "print(\"¿Cuál es el texto entre la posición 12 y 22? : \"+str(text[12:22]))"
   ]
  },
  {
   "cell_type": "code",
   "execution_count": null,
   "metadata": {},
   "outputs": [],
   "source": [
    "print(\"Convertimos el texto en _lower case_ : \"+ text.lower())\n",
    "\n",
    "print(\"Convertimos el texto en _lower case_ : \"+ text.upper())\n",
    "\n",
    "print(\"Convertimos el texto poniendo una mayúscula solamente en la primera palabra: \"+ text.capitalize())\n",
    "\n",
    "print(\"El texto empieza por un 'H': \"+str(text.startswith('H')))"
   ]
  },
  {
   "cell_type": "code",
   "execution_count": null,
   "metadata": {},
   "outputs": [],
   "source": [
    "print(\"Replace 'Mundo' por 'Pizza': \"+str(text.replace(\"Mundo\",\"Pizza\")))"
   ]
  },
  {
   "cell_type": "code",
   "execution_count": null,
   "metadata": {},
   "outputs": [],
   "source": [
    "#Verificar si una variable contiene solamente digitos o caracteres\n",
    "\n",
    "text1=\"123\"\n",
    "text2=\"Hola122\"\n",
    "\n",
    "print(text2.isdigit())\n",
    "print(text2.isalpha())"
   ]
  },
  {
   "cell_type": "code",
   "execution_count": 10,
   "metadata": {},
   "outputs": [
    {
     "name": "stdout",
     "output_type": "stream",
     "text": [
      "Hello there!\n",
      "How are you?\n",
      "I'm doing fine.\n"
     ]
    }
   ],
   "source": [
    "#Un carácter de escape consiste en una barra invertida (\\) seguida del carácter que desea añadir a la cadena. \n",
    "\n",
    "print(\"Hello there!\\nHow are you?\\nI\\'m doing fine.\")"
   ]
  },
  {
   "cell_type": "markdown",
   "metadata": {},
   "source": [
    "## 4. Introducción al preprocesamiento de textos con spaCy\n",
    "\n",
    "### 4.1 Tokenización, Stop-Words y Lematización"
   ]
  },
  {
   "cell_type": "markdown",
   "metadata": {},
   "source": [
    "Cargaremos la librería de NLP spaCy (https://spacy.io/) y los modelos para procesar textos en español.\n",
    "\n",
    "<code>pip3 install -U spacy</code>\n",
    "\n",
    "<code>python3 -m spacy download es_core_news_sm</code>"
   ]
  },
  {
   "cell_type": "code",
   "execution_count": 2,
   "metadata": {},
   "outputs": [],
   "source": [
    "import spacy\n",
    "\n",
    "nlp = spacy.load(\"es_core_news_sm\")"
   ]
  },
  {
   "cell_type": "code",
   "execution_count": 3,
   "metadata": {},
   "outputs": [],
   "source": [
    "doc = nlp(u\"Donald Trump es el presidente de Estados Unidos.\")"
   ]
  },
  {
   "cell_type": "markdown",
   "metadata": {},
   "source": [
    "<img src=\"pipeline.png\"></img>"
   ]
  },
  {
   "cell_type": "code",
   "execution_count": 4,
   "metadata": {},
   "outputs": [
    {
     "name": "stdout",
     "output_type": "stream",
     "text": [
      "Donald False Donald\n",
      "Trump False Trump\n",
      "es True ser\n",
      "el True el\n",
      "presidente False presidente\n",
      "de True de\n",
      "Estados True Estados\n",
      "Unidos False Unidos\n",
      ". False .\n"
     ]
    }
   ],
   "source": [
    "for token in doc:\n",
    "    print(token.text, token.is_stop, token.lemma_)"
   ]
  },
  {
   "cell_type": "markdown",
   "metadata": {},
   "source": [
    "El concepto de 'stop words' no tiene una definición objetiva. Una palabra 'stop words' depende mucho del caso de uso. Habitualmente se trata de una lista de palabras gramaticales tales como \"es\", \"el\", \"la\", \"quiere\", etc."
   ]
  },
  {
   "cell_type": "code",
   "execution_count": 5,
   "metadata": {},
   "outputs": [],
   "source": [
    "my_stop_words = [u'presidente']\n",
    "for stopword in my_stop_words:\n",
    "    lexeme = nlp.vocab[stopword]\n",
    "    lexeme.is_stop = True\n",
    "    \n",
    "my_non_stop_words = [u'Estados']\n",
    "for nonstopword in my_non_stop_words:\n",
    "    lexeme = nlp.vocab[nonstopword]\n",
    "    lexeme.is_stop = False"
   ]
  },
  {
   "cell_type": "code",
   "execution_count": 6,
   "metadata": {},
   "outputs": [
    {
     "name": "stdout",
     "output_type": "stream",
     "text": [
      "Donald False Donald\n",
      "Trump False Trump\n",
      "es True ser\n",
      "el True el\n",
      "presidente True presidente\n",
      "de True de\n",
      "Estados False Estados\n",
      "Unidos False Unidos\n",
      ". False .\n"
     ]
    }
   ],
   "source": [
    "for token in doc:\n",
    "    print(token.text, token.is_stop, token.lemma_)"
   ]
  },
  {
   "cell_type": "markdown",
   "metadata": {},
   "source": [
    "### 4.2 Clasificación de la categoría gramatical de las palabras (Part Of Speach tagging)"
   ]
  },
  {
   "cell_type": "code",
   "execution_count": 7,
   "metadata": {},
   "outputs": [
    {
     "name": "stdout",
     "output_type": "stream",
     "text": [
      "Donald PROPN\n",
      "Trump PROPN\n",
      "es AUX\n",
      "el DET\n",
      "presidente NOUN\n",
      "de ADP\n",
      "Estados PROPN\n",
      "Unidos PROPN\n",
      ". PUNCT\n"
     ]
    }
   ],
   "source": [
    "for token in doc:\n",
    "    print(token.text, token.pos_)"
   ]
  },
  {
   "cell_type": "markdown",
   "metadata": {},
   "source": [
    "### 4.3 Reconocimiento de los nombres de entidades (NER)"
   ]
  },
  {
   "cell_type": "code",
   "execution_count": 8,
   "metadata": {},
   "outputs": [
    {
     "name": "stdout",
     "output_type": "stream",
     "text": [
      "Amazon 0 6 PER\n",
      "America del Sur 45 60 LOC\n"
     ]
    }
   ],
   "source": [
    "doc = nlp(u'Amazon tiene oficinas en todos los paises de America del Sur.')\n",
    "\n",
    "for ent in doc.ents:\n",
    "    print(ent.text, ent.start_char, ent.end_char, ent.label_)"
   ]
  },
  {
   "cell_type": "markdown",
   "metadata": {},
   "source": [
    "Por defecto, spaCy utiliza define varios tipos de entidades entre los cuales:\n",
    "- PERSON: personas\n",
    "- ORG: organizaciones, empresas, instituciones, etc.\n",
    "- GPE: paises, ciudades, regiones.\n",
    "- LOC: lugares geografícos que no son paises, ciudades o regiones.\n",
    "- PRODUCT: productos\n",
    "- EVENT: eventos"
   ]
  },
  {
   "cell_type": "code",
   "execution_count": 9,
   "metadata": {},
   "outputs": [
    {
     "data": {
      "text/html": [
       "<div class=\"entities\" style=\"line-height: 2.5; direction: ltr\">\n",
       "<mark class=\"entity\" style=\"background: #ddd; padding: 0.45em 0.6em; margin: 0 0.25em; line-height: 1; border-radius: 0.35em; box-decoration-break: clone; -webkit-box-decoration-break: clone\">\n",
       "    Amazon\n",
       "    <span style=\"font-size: 0.8em; font-weight: bold; line-height: 1; border-radius: 0.35em; text-transform: uppercase; vertical-align: middle; margin-left: 0.5rem\">PER</span>\n",
       "</mark>\n",
       " tiene oficinas en todos los paises de \n",
       "<mark class=\"entity\" style=\"background: #ff9561; padding: 0.45em 0.6em; margin: 0 0.25em; line-height: 1; border-radius: 0.35em; box-decoration-break: clone; -webkit-box-decoration-break: clone\">\n",
       "    America del Sur\n",
       "    <span style=\"font-size: 0.8em; font-weight: bold; line-height: 1; border-radius: 0.35em; text-transform: uppercase; vertical-align: middle; margin-left: 0.5rem\">LOC</span>\n",
       "</mark>\n",
       ".</div>"
      ],
      "text/plain": [
       "<IPython.core.display.HTML object>"
      ]
     },
     "metadata": {},
     "output_type": "display_data"
    }
   ],
   "source": [
    "from spacy import displacy\n",
    "\n",
    "displacy.render(doc, style=\"ent\", jupyter=True)"
   ]
  },
  {
   "cell_type": "markdown",
   "metadata": {},
   "source": [
    "Otros preprocesamientos posibles en el paquete spaCy: https://spacy.io/usage/linguistic-features\n",
    "- Dependency parsing\n",
    "- Sentence segmentation\n",
    "- Rule-based matching"
   ]
  },
  {
   "cell_type": "markdown",
   "metadata": {},
   "source": [
    "## 5. Crear representaciones vectoriales de los textos"
   ]
  },
  {
   "cell_type": "markdown",
   "metadata": {},
   "source": [
    "### 5.1 Modelo _Bag of words_\n",
    "\n",
    "Avanzamos hacia la parte de aprendizaje automático del análisis de texto. Empezaremos a jugar un poco menos con palabras y un poco más con números. Representaremos los textos como __vectores__.\n",
    "\n",
    "Los algoritmos de aprendizaje automático utilizan estos vectores en particular para hacer predicciones (algoritmos de aprendizaje supervisado) o agrupamiento (no supervisado).\n",
    "\n",
    "La manera la más clásica de representar un texto como un vector es el modelo __Bag of Words__.\n",
    "\n",
    "Empecemos con dos frases de ejemplo:\n",
    "\n",
    "F1:<code>El gato juega con el perro</code>,\n",
    "F2:<code>El perro duerme</code>\n",
    "    \n",
    "Si aplicamos los preprocesos que vimos antes, llegamos a:\n",
    "\n",
    "F1:<code>gato jugar perro</code>,\n",
    "F2:<code>perro dormir</code>\n",
    "\n",
    "Si queremos representar esto como un vector, necesitaríamos primero construir nuestro vocabulario, que serían las palabras únicas que se encuentran en las oraciones. \n",
    "\n",
    "<code>Vocab = ['gato', 'jugar', 'dormir', 'perro']</code>\n",
    "\n",
    "Y luego representar las frases con la frecuencia de aparición de cada palabra:\n",
    "\n",
    "F1:<code>[1,1,0,1]</code>\n",
    "F2:<code>[0,0,1,1]</code>\n",
    "\n",
    "##### Limitaciones del modelo _Bag of words_\n",
    "\n",
    "Como pueden darse cuenta, en el modelo Bag of words, se pierde el orden de las palabras y entonces se pierde parte del sentido del texto. Sin embargo, para muchas tareas de clasificación automática el modelo Bag of words es suficiente (ej: detección de spam).\n",
    "\n",
    "Otra limitación de lo visto hasta ahora es que estamos suponiendo que cada palabra tiene la misma importancia para revelar el sentido del texto. Detallamos esta idea en la sección siguiente."
   ]
  },
  {
   "cell_type": "markdown",
   "metadata": {},
   "source": [
    "### 7.2 Representar la importancia de una palabra: TF-IDF\n",
    "\n",
    "TF-IDF es la abreviatura de _Term Frequency_ (frecuencia de término) - _Inverse Document Frequency_ (frecuencia de documento inversa). Ampliamente utilizado en los motores de búsqueda para encontrar documentos relevantes basados en una consulta, es un enfoque bastante intuitivo para convertir nuestras frases en vectores.\n",
    "\n",
    "Como su nombre indica, TF-IDF trata de combinar dos tipos diferentes de información:\n",
    "- la frecuencia de término (TF) es el número de veces que una palabra aparece en un documento dividido por el número de palabras en el texto. Mide la importancia local del término en el texto.\n",
    "\n",
    "- IDF es la fracción inversa a escala logarítmica de los documentos que contienen la palabra. \n",
    "IDF(t) = log_e (total number of documents / number of documents with term t in it)\n",
    "La intuición \n",
    "\n",
    "TF-IDF es simplemente el producto de estos dos factores - TF e IDF. Juntos, encapsulan más información en la representación vectorial, en lugar de limitarse a utilizar el recuento de palabras como en la representación vectorial de la bolsa de palabras. TF-IDF hace que las palabras raras sean más relevantes para representar el sentido del texto.\n",
    "\n",
    "Si tomamos nuestras frases de ejemplo, tendriamos los vectores siguientes:\n",
    "F1:<code>[0.1,0.1,0,0]</code>\n",
    "F2:<code>[0,0,0.15,0]</code>"
   ]
  },
  {
   "cell_type": "markdown",
   "metadata": {},
   "source": [
    "## 6. Ejemplo de preprocesamiento y vectorización de un dataset real\n",
    "\n",
    "### 6.1 Dataset (o _Corpus_)\n",
    "\n",
    "Utilizaremos un dataset de textos en español que corresponde a una muestra de 1.000 noticias publicadas en 2018 por el medio La Tercera (http://www.latercera.com), recopiladas a traves de la herramienta Sophia (http://www.sophia-project.cl)."
   ]
  },
  {
   "cell_type": "code",
   "execution_count": 10,
   "metadata": {},
   "outputs": [
    {
     "data": {
      "text/html": [
       "<div>\n",
       "<style scoped>\n",
       "    .dataframe tbody tr th:only-of-type {\n",
       "        vertical-align: middle;\n",
       "    }\n",
       "\n",
       "    .dataframe tbody tr th {\n",
       "        vertical-align: top;\n",
       "    }\n",
       "\n",
       "    .dataframe thead th {\n",
       "        text-align: right;\n",
       "    }\n",
       "</style>\n",
       "<table border=\"1\" class=\"dataframe\">\n",
       "  <thead>\n",
       "    <tr style=\"text-align: right;\">\n",
       "      <th></th>\n",
       "      <th>0</th>\n",
       "      <th>1</th>\n",
       "      <th>2</th>\n",
       "      <th>3</th>\n",
       "    </tr>\n",
       "  </thead>\n",
       "  <tbody>\n",
       "    <tr>\n",
       "      <th>0</th>\n",
       "      <td>2016-07-04 07:00:44</td>\n",
       "      <td>latercera</td>\n",
       "      <td>Bachelet propone establecer por ley que \"no h...</td>\n",
       "      <td>Tras visitar a la selección nacional en Juan ...</td>\n",
       "    </tr>\n",
       "    <tr>\n",
       "      <th>1</th>\n",
       "      <td>2016-07-04 08:49:38</td>\n",
       "      <td>latercera</td>\n",
       "      <td>Adriana Delpiano por Reforma educacional: \"De...</td>\n",
       "      <td>Hoy ingresa a la Cámara de Diputados el proye...</td>\n",
       "    </tr>\n",
       "    <tr>\n",
       "      <th>2</th>\n",
       "      <td>2016-07-04 09:40:11</td>\n",
       "      <td>latercera</td>\n",
       "      <td>Cómo será la aventura de la sonda Juno en Júp...</td>\n",
       "      <td>Cinco años después de su lanzamiento, la sond...</td>\n",
       "    </tr>\n",
       "    <tr>\n",
       "      <th>3</th>\n",
       "      <td>2016-07-04 13:25:15</td>\n",
       "      <td>latercera</td>\n",
       "      <td>Se derrumba el reencuentro de las Spice Girls...</td>\n",
       "      <td>En marzo de este año se anunciaba de un posib...</td>\n",
       "    </tr>\n",
       "    <tr>\n",
       "      <th>4</th>\n",
       "      <td>2016-07-03 21:18:00</td>\n",
       "      <td>latercera</td>\n",
       "      <td>Presidenta Bachelet: \"Que quede establecido p...</td>\n",
       "      <td>La Presidenta Michelle Bachelet realizó este ...</td>\n",
       "    </tr>\n",
       "  </tbody>\n",
       "</table>\n",
       "</div>"
      ],
      "text/plain": [
       "                    0            1  \\\n",
       "0 2016-07-04 07:00:44   latercera    \n",
       "1 2016-07-04 08:49:38   latercera    \n",
       "2 2016-07-04 09:40:11   latercera    \n",
       "3 2016-07-04 13:25:15   latercera    \n",
       "4 2016-07-03 21:18:00   latercera    \n",
       "\n",
       "                                                   2  \\\n",
       "0   Bachelet propone establecer por ley que \"no h...   \n",
       "1   Adriana Delpiano por Reforma educacional: \"De...   \n",
       "2   Cómo será la aventura de la sonda Juno en Júp...   \n",
       "3   Se derrumba el reencuentro de las Spice Girls...   \n",
       "4   Presidenta Bachelet: \"Que quede establecido p...   \n",
       "\n",
       "                                                   3  \n",
       "0   Tras visitar a la selección nacional en Juan ...  \n",
       "1   Hoy ingresa a la Cámara de Diputados el proye...  \n",
       "2   Cinco años después de su lanzamiento, la sond...  \n",
       "3   En marzo de este año se anunciaba de un posib...  \n",
       "4   La Presidenta Michelle Bachelet realizó este ...  "
      ]
     },
     "execution_count": 10,
     "metadata": {},
     "output_type": "execute_result"
    }
   ],
   "source": [
    "import pandas as pd\n",
    "\n",
    "DATASET_CSV=\"sophia_latercera-1000.csv\"\n",
    "\n",
    "df = pd.read_csv(DATASET_CSV,sep='|',error_bad_lines=False,header=None)\n",
    "df[0] = pd.to_datetime(df[0])\n",
    "\n",
    "df.head(5)"
   ]
  },
  {
   "cell_type": "code",
   "execution_count": 11,
   "metadata": {},
   "outputs": [
    {
     "data": {
      "text/html": [
       "<div>\n",
       "<style scoped>\n",
       "    .dataframe tbody tr th:only-of-type {\n",
       "        vertical-align: middle;\n",
       "    }\n",
       "\n",
       "    .dataframe tbody tr th {\n",
       "        vertical-align: top;\n",
       "    }\n",
       "\n",
       "    .dataframe thead th {\n",
       "        text-align: right;\n",
       "    }\n",
       "</style>\n",
       "<table border=\"1\" class=\"dataframe\">\n",
       "  <thead>\n",
       "    <tr style=\"text-align: right;\">\n",
       "      <th></th>\n",
       "      <th>fecha</th>\n",
       "      <th>noticia</th>\n",
       "    </tr>\n",
       "  </thead>\n",
       "  <tbody>\n",
       "    <tr>\n",
       "      <th>0</th>\n",
       "      <td>2016-07-04 07:00:44</td>\n",
       "      <td>Tras visitar a la selección nacional en Juan ...</td>\n",
       "    </tr>\n",
       "    <tr>\n",
       "      <th>1</th>\n",
       "      <td>2016-07-04 08:49:38</td>\n",
       "      <td>Hoy ingresa a la Cámara de Diputados el proye...</td>\n",
       "    </tr>\n",
       "    <tr>\n",
       "      <th>2</th>\n",
       "      <td>2016-07-04 09:40:11</td>\n",
       "      <td>Cinco años después de su lanzamiento, la sond...</td>\n",
       "    </tr>\n",
       "    <tr>\n",
       "      <th>3</th>\n",
       "      <td>2016-07-04 13:25:15</td>\n",
       "      <td>En marzo de este año se anunciaba de un posib...</td>\n",
       "    </tr>\n",
       "    <tr>\n",
       "      <th>4</th>\n",
       "      <td>2016-07-03 21:18:00</td>\n",
       "      <td>La Presidenta Michelle Bachelet realizó este ...</td>\n",
       "    </tr>\n",
       "  </tbody>\n",
       "</table>\n",
       "</div>"
      ],
      "text/plain": [
       "                fecha                                            noticia\n",
       "0 2016-07-04 07:00:44   Tras visitar a la selección nacional en Juan ...\n",
       "1 2016-07-04 08:49:38   Hoy ingresa a la Cámara de Diputados el proye...\n",
       "2 2016-07-04 09:40:11   Cinco años después de su lanzamiento, la sond...\n",
       "3 2016-07-04 13:25:15   En marzo de este año se anunciaba de un posib...\n",
       "4 2016-07-03 21:18:00   La Presidenta Michelle Bachelet realizó este ..."
      ]
     },
     "execution_count": 11,
     "metadata": {},
     "output_type": "execute_result"
    }
   ],
   "source": [
    "texts=df[[0,3]]\n",
    "texts.columns = ['fecha', 'noticia']\n",
    "\n",
    "texts.head(5)"
   ]
  },
  {
   "cell_type": "code",
   "execution_count": 12,
   "metadata": {},
   "outputs": [
    {
     "data": {
      "text/html": [
       "<div>\n",
       "<style scoped>\n",
       "    .dataframe tbody tr th:only-of-type {\n",
       "        vertical-align: middle;\n",
       "    }\n",
       "\n",
       "    .dataframe tbody tr th {\n",
       "        vertical-align: top;\n",
       "    }\n",
       "\n",
       "    .dataframe thead th {\n",
       "        text-align: right;\n",
       "    }\n",
       "</style>\n",
       "<table border=\"1\" class=\"dataframe\">\n",
       "  <thead>\n",
       "    <tr style=\"text-align: right;\">\n",
       "      <th></th>\n",
       "      <th>fecha</th>\n",
       "      <th>noticia</th>\n",
       "    </tr>\n",
       "  </thead>\n",
       "  <tbody>\n",
       "    <tr>\n",
       "      <th>934</th>\n",
       "      <td>2016-03-05 01:18:32</td>\n",
       "      <td>El gobierno chino se ha fijado un objetivo de...</td>\n",
       "    </tr>\n",
       "    <tr>\n",
       "      <th>935</th>\n",
       "      <td>2016-03-05 03:20:09</td>\n",
       "      <td>Por “atentado en contra de la autoridad” fue ...</td>\n",
       "    </tr>\n",
       "    <tr>\n",
       "      <th>936</th>\n",
       "      <td>2016-03-05 04:40:10</td>\n",
       "      <td>La semana pasada tres millones de estudiantes...</td>\n",
       "    </tr>\n",
       "    <tr>\n",
       "      <th>937</th>\n",
       "      <td>2016-03-05 05:40:11</td>\n",
       "      <td>El virus del Zika presente en América Latina ...</td>\n",
       "    </tr>\n",
       "    <tr>\n",
       "      <th>938</th>\n",
       "      <td>2016-03-05 10:11:37</td>\n",
       "      <td>“Es como si la gente hubiera levantado una ro...</td>\n",
       "    </tr>\n",
       "  </tbody>\n",
       "</table>\n",
       "</div>"
      ],
      "text/plain": [
       "                  fecha                                            noticia\n",
       "934 2016-03-05 01:18:32   El gobierno chino se ha fijado un objetivo de...\n",
       "935 2016-03-05 03:20:09   Por “atentado en contra de la autoridad” fue ...\n",
       "936 2016-03-05 04:40:10   La semana pasada tres millones de estudiantes...\n",
       "937 2016-03-05 05:40:11   El virus del Zika presente en América Latina ...\n",
       "938 2016-03-05 10:11:37   “Es como si la gente hubiera levantado una ro..."
      ]
     },
     "execution_count": 12,
     "metadata": {},
     "output_type": "execute_result"
    }
   ],
   "source": [
    "texts=texts.sort_values(by=['fecha'])\n",
    "texts.head(5)"
   ]
  },
  {
   "cell_type": "code",
   "execution_count": 13,
   "metadata": {},
   "outputs": [
    {
     "name": "stdout",
     "output_type": "stream",
     "text": [
      " Nada de contento se mostró Esteban Paredes con la llamativa indumentaria de Colo Colo. El conjunto de José Luis Sierra, que ayer perdió 1-0 ante Unión Española en el Monumental, vistió la nueva camiseta roja, algo que molestó al delantero albo, quien hizo sus descargos a través de redes sociales. “Por favor cambiemos y respetemos los colores de mi amado Colo Colo”, publicó Paredes, quien no estuvo presente en el encuentro frente a los hispanos, en su cuenta de Twitter.   La nueva camiseta de los albos, con la que ha disputado los amistosos, será utilizada en los encuentros de Copa Chile, que arranca la semana que viene.  Por favor cambiemos y respetemos los colores de mi amado colo- colo — esteban paredes (@estebanparedesQ) 3 de julio de 2016\n",
      "2016-07-04 05:45:15\n"
     ]
    }
   ],
   "source": [
    "for index,row in texts.iterrows():\n",
    "    if index==6:\n",
    "        print(row['noticia'])\n",
    "        print(row['fecha'])"
   ]
  },
  {
   "cell_type": "code",
   "execution_count": 14,
   "metadata": {},
   "outputs": [
    {
     "data": {
      "text/plain": [
       "fecha\n",
       "2016-03     50\n",
       "2016-04     80\n",
       "2016-05    141\n",
       "2016-06     81\n",
       "2016-07    104\n",
       "2016-08     51\n",
       "2016-09     88\n",
       "2016-10    181\n",
       "2016-11    201\n",
       "2016-12     23\n",
       "Freq: M, Name: noticia, dtype: int64"
      ]
     },
     "execution_count": 14,
     "metadata": {},
     "output_type": "execute_result"
    }
   ],
   "source": [
    "n_texts_perMonth = texts.groupby(texts.fecha.dt.to_period(\"M\")).count()\n",
    "result=n_texts_perMonth['noticia']\n",
    "\n",
    "result"
   ]
  },
  {
   "cell_type": "code",
   "execution_count": 15,
   "metadata": {},
   "outputs": [],
   "source": [
    "import matplotlib.pyplot as plt\n",
    "\n",
    "ax = result.plot.bar(x='fecha', y='noticia', rot=90, color=(0.2, 0.4, 0.6, 0.6))"
   ]
  },
  {
   "cell_type": "markdown",
   "metadata": {},
   "source": [
    "### 6.2 Preprocesamiento con spaCy"
   ]
  },
  {
   "cell_type": "code",
   "execution_count": 16,
   "metadata": {},
   "outputs": [
    {
     "data": {
      "text/html": [
       "<div>\n",
       "<style scoped>\n",
       "    .dataframe tbody tr th:only-of-type {\n",
       "        vertical-align: middle;\n",
       "    }\n",
       "\n",
       "    .dataframe tbody tr th {\n",
       "        vertical-align: top;\n",
       "    }\n",
       "\n",
       "    .dataframe thead th {\n",
       "        text-align: right;\n",
       "    }\n",
       "</style>\n",
       "<table border=\"1\" class=\"dataframe\">\n",
       "  <thead>\n",
       "    <tr style=\"text-align: right;\">\n",
       "      <th></th>\n",
       "      <th>fecha</th>\n",
       "      <th>noticia</th>\n",
       "    </tr>\n",
       "  </thead>\n",
       "  <tbody>\n",
       "    <tr>\n",
       "      <th>934</th>\n",
       "      <td>2016-03-05 01:18:32</td>\n",
       "      <td>El gobierno chino se ha fijado un objetivo de...</td>\n",
       "    </tr>\n",
       "    <tr>\n",
       "      <th>935</th>\n",
       "      <td>2016-03-05 03:20:09</td>\n",
       "      <td>Por “atentado en contra de la autoridad” fue ...</td>\n",
       "    </tr>\n",
       "    <tr>\n",
       "      <th>936</th>\n",
       "      <td>2016-03-05 04:40:10</td>\n",
       "      <td>La semana pasada tres millones de estudiantes...</td>\n",
       "    </tr>\n",
       "    <tr>\n",
       "      <th>937</th>\n",
       "      <td>2016-03-05 05:40:11</td>\n",
       "      <td>El virus del Zika presente en América Latina ...</td>\n",
       "    </tr>\n",
       "    <tr>\n",
       "      <th>938</th>\n",
       "      <td>2016-03-05 10:11:37</td>\n",
       "      <td>“Es como si la gente hubiera levantado una ro...</td>\n",
       "    </tr>\n",
       "  </tbody>\n",
       "</table>\n",
       "</div>"
      ],
      "text/plain": [
       "                  fecha                                            noticia\n",
       "934 2016-03-05 01:18:32   El gobierno chino se ha fijado un objetivo de...\n",
       "935 2016-03-05 03:20:09   Por “atentado en contra de la autoridad” fue ...\n",
       "936 2016-03-05 04:40:10   La semana pasada tres millones de estudiantes...\n",
       "937 2016-03-05 05:40:11   El virus del Zika presente en América Latina ...\n",
       "938 2016-03-05 10:11:37   “Es como si la gente hubiera levantado una ro..."
      ]
     },
     "execution_count": 16,
     "metadata": {},
     "output_type": "execute_result"
    }
   ],
   "source": [
    "dataset=texts.head(5)\n",
    "dataset"
   ]
  },
  {
   "cell_type": "code",
   "execution_count": 17,
   "metadata": {},
   "outputs": [
    {
     "name": "stdout",
     "output_type": "stream",
     "text": [
      "[[' ', 'gobernar', 'chino', 'fijar', 'objetivar', 'crecimiento', 'pib', 'y', 'ciento', 'frente', 'ciento', 'a', 'luz', 'ralentización', 'sufrir', 'economía', 'mundial', '\\xa0 ', 'meter', 'figurar', 'informar', 'gubernamental', 'leer', 'ministro', 'li', 'keqiang', 'asamblea', 'nacional', 'popular', 'anp', 'legislativo', 'establecer', 'chino', 'año', 'lograr', 'cumplir', 'objetivar', 'crecimiento', '10', 'pib', 'aumentar', 'ciento', '\\xa0 ', 'informar', 'fijo', 'indicador', 'inflación', 'mantener', 'tornar', 'ciento', 'ejercicio', 'anterior', 'creación', 'millón', 'puesto', 'urbano', 'frente', 'a', 'millón', 'generar', 'y', 'aumentar', 'presupuestar', 'defensa', 'ciento', 'año', '\\xa0 ', 'perspectivo', 'necesidad', 'avanzar', 'reformar', 'estructural', 'y', 'ayudar', 'a', 'guiar', 'expectativa', 'mercar', 'y', 'mantenerlas', 'estable', 'señalar', 'informar', 'proyectar', 'crecimiento', 'pib', 'ciento', 'lustrar', 'aplicar', 'xiii', 'plan', 'quinquenal', '\\xa0 ', 'cifrar', 'contrastar', 'década', 'pasar', 'chino', 'lograr', 'alzar', 'pib', 'anual', 'ciento', 'pekín', 'afirmar', 'a', 'medir', 'desarrollar', 'país', 'complicar', 'mantener', 'alto', 'cifrar', 'crecimiento', '\\xa0 ', 'aumentar', 'punto', 'porcentual', 'pib', 'equivaler', 'a', 'año', 'o', 'defender', 'informar', 'repasar', 'régimen', 'comunista', 'y', 'marcar', 'ruta', 'a', 'seguir', 'año', 'sesión', 'anual', 'anp', 'debatir', 'plan', 'quinquenal', 'y', 'aprobar', 'a', 'mediar', 'marzo'], [' ', 'atentar', 'autoridad', 'formalizar', 'mediodía', 'mujer', 'identificar', 'inicial', 'j.', 'y.', 'm.', 'detenido', 'jueves', 'comuna', 'tirúa', 'región', 'biobío', 'protagonizar', 'incidente', 'patrullar', 'carabinero', 'fundir', 'wagemann', 'procedimiento', 'judicial', 'efectuar', 'juzgar', 'garantir', 'cañete', 'participación', 'hecho', 'grave', 'concertación', 'cometer', 'tipo', 'delito', 'etapa', 'investigativa', 'fiscal', 'juan', 'yáñez', 'persecutor', 'dedicación', 'exclusivo', 'investigar', 'hecho', 'violencia', 'rural', 'provincia', 'arauco', 'imputar', 'medir', 'cautelar', 'firmar', 'semanal', 'ministerio', 'público', 'solicitar', 'arrestar', 'domiciliario', 'nocturno', 'tribunal', 'rechazar', 'plazo', 'investigación', 'mesar', 'patrullaje', 'detención', 'producir', 'patrullaje', 'realizar', 'carabinero', 'emboscar', 'miércoles', 'zona', 'sufrir', 'convoy', 'camión', 'forestal', 'vehículo', 'resultar', 'quemar', 'producto', 'atacar', 'incendiario', 'efectuar', 'encapuchar', 'fiscal', 'yáñez', 'detención', 'efectuar', 'jueves', 'carabinero', 'encontrar', 'camioneta', 'sujeto', 'comenzar', 'a', 'disparar', 'lograr', 'a', 'fugar', 'y', 'interceptar', 'policía', 'camioneta', 'lograr', 'detenido', 'parapetar', 'y', 'comenzar', 'disparo', 'personar', 'vehículo', 'arrancar', 'lograr', 'detención', 'conductor', 'y', 'haber', 'efectuar', 'disparo', 'anoche', 'sujetar', 'hombre', 'inicial', 'h.', 'p.', 'p.', 'permanecer', 'internar', 'hospital', 'curanilahue', 'presentar', 'lesionar', 'formalizar', 'portar', 'ilegal', 'armar', 'y', 'munición', 'receptación', 'escopeta', 'hechizo', 'y', 'atentar', 'autoridad', 'prisión', 'preventivo'], [' ', 'semana', 'millón', 'estudiante', 'ingresar', 'a', 'clase', 'comenzar', 'ciclar', 'escolar', 'mil', 'niño', 'y', 'joven', 'optar', 'caminar', 'estudiar', 'y', 'examen', 'libre', '\\xa0 ', 'casar', 'mariano', 'parra', 'colegiar', '3', 'sentir', 'escuela', 'y', 'querer', 'formar', 'gracia', 'a', 'gestión', 'padre', 'comenzar', 'a', 'estudiar', 'a', 'profesor', 'particular', 'temario', 'entregar', 'colegiar', 'examinador', 'prueba', 'libre', 'lograr', 'terminar', 'etapa', 'escolar', 'y', 'entrar', 'a', 'estudiar', 'ingeniería', 'informático', 'duoc', 'formar', 'programar', 'estudiante', 'inscribirse', 'ministerio', 'educación', 'mineduc', 'autorizar', 'casar', 'menor', 'edad', 'cartero', 'asignar', 'colegiar', 'examinador', 'preparar', 'prueba', '\\xa0 ', 'jefe', 'división', 'educación', 'mineduc', 'gonzalo', 'muñoz', '  ', 'establecimiento', 'educacional', 'designar', 'escoger', 'preferentemente', 'resultar', 'simce', '\\xa0 ', 'casar', 'mayor', 'edad', 'autorización', 'y', 'temario', 'correr', 'mineduc', 'a', 'muñoz', 'examen', '  ', 'constituir', 'excepcionalidad', 'sistema', 'educacional', 'y', 'opción', 'culminar', 'estudio', 'año', 'mineduc', 'cursar', 'mil', 'autorización', '  ', 'corresponder', 'a', 'menor', 'y', 'mil', 'a', 'mayor', 'año', 'llamativo', 'casar', '  ', 'mayor', 'poder', 'prueba', 'aprobar', 'nivelar', '°', 'y', '°', '°', 'básico', 'infografía', 'a', 'contar', 'cifrar', 'muñoz', 'estadístico', 'específico', 'efectivamente', 'rendir', 'examen', 'libre', 'y', 'estimar', 'mitad', 'terminar', 'realizar', '  ', 'trámite', '\\xa0 ', 'mariano', 'benjamín', 'herrero', 'decidir', 'asistir', 'colegiar', 'problema', 'personal', 'y', 'prueba', 'año', 'aprobar', '°', 'y', '°', 'mineduc', 'facilitar', 'libro', 'educarse', 'y', 'prueba', 'libre', 'colegiar', 'examinador', 'sistema', 'favorecer', 'estudio', 'aprender', 'a', 'responsable', 'malo', 'estudiar', 'y', 'tomar', 'atención', 'clase', 'situación', 'cambiar', 'recalcar', 'pesar', 'a', 'fácil', 'estudiar', 'y', 'esperar', 'volver', 'colegiar'], [' ', 'virus', 'zika', 'presentar', 'américa', 'latino', '  ', 'atacar', 'y', 'destruir', 'célula', 'cerebral', 'humano', 'desarrollar', 'feto', '  ', 'revelar', 'estudiar', 'publicar', 'viernes', 'basar', 'a', 'observación', 'laboratorio', '\\xa0 ', 'estudiar', 'probar', 'experimental', 'vínculo', 'biológico', 'virus', 'transmitir', 'mosquito', 'y', 'drástico', 'incrementar', 'caso', '  ', 'microcefalia', 'severo', 'malformación', 'cerebro', 'y', 'cráneo', 'recién', '  ', 'nacido', '\\xa0 ', 'vínculo', 'comprobar', 'circunstancial', 'explicar', 'guo', 'li', 'ming', 'profesor', 'neurología', 'instituto', 'ingeniería', 'celular', 'instituto', '  ', 'johns', 'hopkins', 'maryland', 'unir', 'codirigir', '  ', 'investigación', '\\xa0 ', 'estudio', 'feto', 'y', 'bebé', 'cerebro', 'reducir', 'y', 'microcefalia', 'zona', '  ', 'afectar', 'virus', 'zika', 'hallar', 'anomalía', 'córtex', 'y', 'virus', '  ', 'tejido', 'fetal', 'indicar', 'estudiar', '\\xa0 ', 'experiencia', 'laboratorio', 'científico', 'exponer', 'tipo', 'célula', 'humano', 'virus', 'zika', '\\xa0 ', 'conocer', 'célula', 'progenitor', 'neuronal', 'humano', 'hnpcs', 'crucial', 'desarrollar', 'córtex', 'o', 'capar', 'superficial', 'cerebro', '  ', 'feto', '\\xa0 ', 'dañar', 'a', 'célula', 'desarrollar', 'neurona', 'maduro', 'coherente', 'trastorno', 'causar', 'microcefalia', '\\xa0 ', 'tipo', 'célula', 'célula', 'madre', 'y', 'neurona', '\\xa0 ', 'prever', 'virus', 'zika', 'atacar', 'a', 'hnpcs', '  ', 'exposición', 'resultar', 'infectar', 'y', 'morir', '\\xa0 ', 'célula', 'infectar', 'comenzar', 'a', 'replicar', 'copiar', '  ', 'virus', '\\xa0 ', 'gen', 'necesario', 'luchar', 'virus', 'activar', '  ', 'altamente', 'inusual', '\\xa0 ', 'comparación', 'tipo', 'célula', 'humano', 'resultar', '  ', 'relativamente', 'ileso', '\\xa0 ', 'resultar', 'demostrar', 'claramente', 'prueba', 'laboratorio', '  ', 'zika', 'infectar', 'directamente', 'y', 'eficacia', 'a', 'hnpcs', 'concluir', '  ', 'estudiar', '\\xa0 ', 'resultar', 'significativo', 'célula', 'formar', 'córtex', '  ', 'potencialmente', 'vulnerable', 'virus', 'agregar', 'ming', '\\xa0 ', 'resultar', 'publicar', 'revistar', 'cell', 'stem', 'cell', 'ayudar', 'a', '  ', 'identificar', 'medicamento', 'capaz', 'proteger', 'a', 'célula', 'vulnerable', 'o', '  ', 'reducir', 'infección', 'producir', '\\xa0 ', 'zika', 'peligroso', 'resfriar', 'o', 'casar', 'gripe', '  ', 'a', 'presentar', 'síntoma', '\\xa0 ', 'sospechar', 'brotar', 'recentar', 'virus', '  ', 'extender', 'rápidamente', 'y', 'presentar', 'decena', 'país', '  ', 'organización', 'mundial', 'salud', 'oms', 'causar', 'microcefalia', 'y', '  ', 'complicación', 'severo', '  '], [' ', 'gente', 'haber', 'levantar', 'roca', 'y', 'mirar', 'animador', 'bromear', 'director', 'zumbástico', 'studios', 'álvaro', 'ceppi', 'a', 'extremo', 'atención', 'gozar', 'animación', 'chileno', 'historia', 'osar', 'ganar', 'oscar', 'extremo', 'mediatización', 'llevar', 'realizar', 'silenciar', 'animador', 'país', 'año', 'y', 'volver', 'objetar', 'interés', 'chileno', 'plataforma', 'extranjero', 'cartoon', 'network', 'semana', 'compañía', 'anunciar', 'convocatorio', 'proyecto', 'animar', 'chileno', 'presentarse', 'abril', 'a', 'concursar', 'convertirse', 'futuro', 'serie', 'canal', 'animación', 'grande', 'mundo', 'confianza', 'efecto', 'oscar', 'erwin', '  ', 'gómez', 'director', 'fundación', 'chilemonos', 'agrupar', 'a', 'animación', 'independiente', 'oscar', 'chile', 'animación', 'ver', 'venir', 'preguntar', '\\xa0 ', 'historia', 'comenzar', 'animación', 'chile', 'remontar', 'año', 'estrenar', 'dibujo', 'película', 'animar', 'chileno', 'proyectar', 'visitar', 'walt', 'disney', 'a', 'país', 'hito', 'pantalla', 'chico', '  ', '  ', 'tevito', 'mascota', 'tvn', 'gobernar', 'salvador', 'allende', 'y', 'angelito', 'canal', 'abrir', 'y', 'cerrar', 'transmisión', 'canal', 'y', 'pasar', 'importante', '  ', 'ogú', 'y', 'mampato', 'rapar', 'nui', 'alejandro', 'rojo', 'considerar', 'filmar', 'animación', 'moderno', 'chile', 'director', 'papelucho', 'y', 'marciano', 'animar', 'y', 'oscar', 'premiar', 'a', 'historia', 'osar', 'aislar', 'acompañar', 'boom', 'productor', 'independiente', '-que', 'sumir', '25-', 'profesionalización', 'disciplinar', 'país', 'comenzar', 'año', 'y', 'impartir', 'casar', 'estudio', 'acreditar', 'casar', 'universidad', '  ', 'américas', 'y', 'universidad', 'producir', 'chile', 'película', 'animar', 'contar', 'mil', 'dibujo', 'produciéndose', 'largometraje', 'germán', 'acuñar', 'presidente', 'asociación', 'gremial', 'animador', 'animachi', 'responsable', 'nahuel', 'y', 'librar', 'mágico', 'aporte', 'fondo', 'fomentar', 'audiovisual', 'y', 'cntv', 'historia', 'niño', 'chilote', 'hijo', 'pescador', 'miedo', 'mar', 'enfrentar', 'desafío', 'encontrarse', 'padre', 'separar', '  ', 'naufragar', 'tormenta', 'acuñar', '  ', 'cintar', '  ', 'esperar', 'finalizar', 'y', 'obtener', 'millón', 'peso', 'fondo', 'audiovisual', 'consejo', 'nacional', 'cultura', 'aumentar', 'producción', 'película', 'animar', 'chile', 'explicar', 'fondo', 'audiovisual', 'destin', 'ó', 'recurso', 'exclusivo', 'largometraje', 'animar', 'año', 'adjudicar', 'productor', 'zumbástico', 'y', 'diluviar', 'proyectar', 'mangar', 'brothers', 'película', 'ciencia', 'ficción', '3d', 'trabajar', 'a', 'punkrobot', 'aliens', 'querer', 'conquistar', 'planeta', 'fruto', 'y', 'verdura', 'esperar', 'estar', 'listo', 'millón', 'apoyar', 'consejo', 'cultura', 'casar', 'lobo', 'proyectar', 'cristóbal', 'león', 'y', 'joaquín', 'cociña', 'productor', 'diluviar', 'convertir', 'película', 'stop', 'motion', 'hacer', 'chile', 'sellar', 'artístico', 'comercial', 'película', 'inspirar', 'colonia', 'dignidad', 'historia', 'mujer', 'escapar', 'y', 'llegar', 'a', 'casar', 'habitar', 'cerdo', 'explicar', 'cociña', 'jugar', 'estar', 'filmar', 'productor', 'animación', 'imaginario', 'colonia', 'dignidad', 'agregar', 'león', 'llevar', 'entregar', 'a', 'proyectar', 'año', 'y', 'esperar', 'terminarla', 'año', 'más.el', 'panorama', 'completar', 'ojo', 'gato', 'productor', 'atiempo', 'largometraje', '3d', 'ambientar', 'valparaíso', 'y', 'homeless', 'coproducción', 'lunes', 'y', 'fábula', 'dirigir', 'público', 'adulto', 'niño', 'rico', 'soñar', 'vivir', 'vagabundo', 'serie', 'serie', 'tv', 'animar', 'desarrollar', 'chile', 'sumir', 'y', 'título', 'chileno', 'promediar', 'poner', 'a', 'enumerar', 'conocer', 'seguramente', 'recordar', 'pulentos', 'villa', 'dulce', 'diego', 'y', 'glot', 'tortuga', 'tarugo', 'clarita', 'y', 'suerte', 'paso', 'decena', 'producción', 'animar', 'chileno', 'ganar', 'oscar', 'punkrobot', 'contar', 'serie', 'a', 'flippos', 'y', 'aventurar', 'muelín', 'y', 'perlita', 'transmitir', 'filial', 'infantil', 'globo', 'y', 'ambos', 'netflix', 'parecer', 'paso', 'zumbástico', 'fantástico', 'seriar', 'zumbástico', 'studio', 'comprar', 'cartoon', 'network', 'y', 'transmitir', 'cadena', 'país', 'año', 'seguir', 'cartoon', 'network', 'seriar', 'exitoso', 'pasar', 'seriar', 'tvn', '  ', 'resonancia', 'explicar', 'ceppi', '  ', 'casar', 'similar', 'hostal', 'morrison', 'productor', 'chileno', 'pájaro', 'temporada', 'cartoon', 'network', 'transmitir', 'canal', 'argentino', 'pakapaka', 'año', 'seguir', 'chile', 'temporada', 'emitir', '  ', 'canal', 'y', 'chv', 'preguntar', 'a', 'niño', 'argentino', 'conocer', 'hostal', 'morrison', 'conocer', 'preguntar', 'a', 'niño', 'chileno', 'conocer', 'ejemplificar', 'bernardita', 'ojeda', 'director', 'pájaro', 'erwin', 'gómez', 'álvaro', 'ceppi', 'y', 'bernardita', 'ojeda', 'concordar', 'origen', 'fenómeno', 'escaso', 'apoyar', 'canal', 'televisión', 'abrir', 'brindar', 'a', 'tipo', 'producción', 'perpetuar', 'largo', 'año', 'transmisión', 'programar', 'extranjero', 'simpson', 'terminar', 'sepultar', 'franja', 'programación', 'infantil', '  ', 'chespirito', 'haber', 'chileno', 'chavo', 'haber', 'existir', 'tv', 'haber', 'oportunidad', 'lamentar', 'lópez', 'año', 'tvn', 'transmitir', 'serie', 'animar', 'chileno', 'puerto', 'papel', 'stop', 'motion', 'productor', 'zumbástico', 'comenzar', 'a', 'transmitirse', 'semestre', 'seriar', 'matilde', 'niño', 'vacación', 'abuelo', 'pirata', 'cocar', 'mágico', 'a', 'matilde', 'distinto', 'elegir', 'controlar', 'a', 'creación', 'chileno', 'éxito', 'aforar', 'único', 'gente', 'conocer', 'y', 'disfrutar', 'ceppi', 'financiamiento', 'temer', 'complicar', 'a', 'animador', 'soler', 'encontrar', 'presupuestar', 'preproducción', 'proyecto', 'fondo', 'corfo', 'buscar', 'apoyar', 'a', '  ', 'fondo', 'cntv', 'o', 'consejo', 'cultura', 'película', 'animar', 'caro', 'técnico', 'utilizar', 'complejo', 'y', 'softwares', 'costoso', 'recurso', 'apoyar', 'cntv', 'y', 'consejo', 'cultura', 'existir', 'aclarar', 'ceppi.pero', 'apoyar', 'organismo', 'a', 'animación', 'incierto', 'patrocinio', 'cntv', 'a', 'proyecto', 'animación', 'infantil', 'nulo', 'estancar', 'año', 'desarrollar', 'propuesta', 'invertir', 'a', 'fondo', 'corfo', '\\xa0 ', 'profundar', 'error', 'pensar', 'erwin', 'gómez.tras', 'oscar', 'historia', 'osar', 'animador', 'chileno', 'esperar', 'quedar', 'celebración', 'y', 'generar', 'cambio', 'estructural', 'mejorar', 'condicionar', 'y', 'oportunidad', 'producir', 'y', 'mostrar', 'contenido', 'oscar', 'deber', 'marcar', 'comenzar', 'industrialización', 'esperar', 'director', 'chilemonos', 'interés', 'aforar', 'chile', 'necesitar', 'apañar', 'venir', 'grande', 'concluir']]\n"
     ]
    }
   ],
   "source": [
    "import spacy\n",
    "nlp = spacy.load(\"es_core_news_sm\")\n",
    "\n",
    "noticias = []\n",
    "\n",
    "for index,row in dataset.iterrows():\n",
    "    noticia = []\n",
    "    doc=nlp(row['noticia'].lower())\n",
    "    for token in doc:\n",
    "        if not token.is_stop and not token.is_punct and not token.is_digit and not token.like_num:\n",
    "            noticia.append(token.lemma_)\n",
    "    noticias.append(noticia)\n",
    "    \n",
    "print(noticias)"
   ]
  },
  {
   "cell_type": "markdown",
   "metadata": {},
   "source": [
    "### 6.3 Vectorización con Gensim\n",
    "\n",
    "Gensim: https://radimrehurek.com/gensim/\n"
   ]
  },
  {
   "cell_type": "code",
   "execution_count": 18,
   "metadata": {},
   "outputs": [
    {
     "name": "stderr",
     "output_type": "stream",
     "text": [
      "C:\\Users\\Luciano\\Anaconda3\\envs\\base_datos\\lib\\site-packages\\gensim\\utils.py:1197: UserWarning: detected Windows; aliasing chunkize to chunkize_serial\n",
      "  warnings.warn(\"detected Windows; aliasing chunkize to chunkize_serial\")\n"
     ]
    },
    {
     "name": "stdout",
     "output_type": "stream",
     "text": [
      "{' ': 0, '10': 1, 'a': 2, 'afirmar': 3, 'alto': 4, 'alzar': 5, 'anp': 6, 'anterior': 7, 'anual': 8, 'aplicar': 9, 'aprobar': 10, 'asamblea': 11, 'aumentar': 12, 'avanzar': 13, 'ayudar': 14, 'año': 15, 'chino': 16, 'ciento': 17, 'cifrar': 18, 'complicar': 19, 'comunista': 20, 'contrastar': 21, 'creación': 22, 'crecimiento': 23, 'cumplir': 24, 'debatir': 25, 'defender': 26, 'defensa': 27, 'desarrollar': 28, 'década': 29, 'economía': 30, 'ejercicio': 31, 'equivaler': 32, 'estable': 33, 'establecer': 34, 'estructural': 35, 'expectativa': 36, 'figurar': 37, 'fijar': 38, 'fijo': 39, 'frente': 40, 'generar': 41, 'gobernar': 42, 'gubernamental': 43, 'guiar': 44, 'indicador': 45, 'inflación': 46, 'informar': 47, 'keqiang': 48, 'leer': 49, 'legislativo': 50, 'li': 51, 'lograr': 52, 'lustrar': 53, 'luz': 54, 'mantener': 55, 'mantenerlas': 56, 'marcar': 57, 'marzo': 58, 'mediar': 59, 'medir': 60, 'mercar': 61, 'meter': 62, 'millón': 63, 'ministro': 64, 'mundial': 65, 'nacional': 66, 'necesidad': 67, 'o': 68, 'objetivar': 69, 'pasar': 70, 'país': 71, 'pekín': 72, 'perspectivo': 73, 'pib': 74, 'plan': 75, 'popular': 76, 'porcentual': 77, 'presupuestar': 78, 'proyectar': 79, 'puesto': 80, 'punto': 81, 'quinquenal': 82, 'ralentización': 83, 'reformar': 84, 'repasar': 85, 'ruta': 86, 'régimen': 87, 'seguir': 88, 'sesión': 89, 'señalar': 90, 'sufrir': 91, 'tornar': 92, 'urbano': 93, 'xiii': 94, 'y': 95, '\\xa0 ': 96, 'anoche': 97, 'arauco': 98, 'armar': 99, 'arrancar': 100, 'arrestar': 101, 'atacar': 102, 'atentar': 103, 'autoridad': 104, 'biobío': 105, 'camioneta': 106, 'camión': 107, 'carabinero': 108, 'cautelar': 109, 'cañete': 110, 'comenzar': 111, 'cometer': 112, 'comuna': 113, 'concertación': 114, 'conductor': 115, 'convoy': 116, 'curanilahue': 117, 'dedicación': 118, 'delito': 119, 'detención': 120, 'detenido': 121, 'disparar': 122, 'disparo': 123, 'domiciliario': 124, 'efectuar': 125, 'emboscar': 126, 'encapuchar': 127, 'encontrar': 128, 'escopeta': 129, 'etapa': 130, 'exclusivo': 131, 'firmar': 132, 'fiscal': 133, 'forestal': 134, 'formalizar': 135, 'fugar': 136, 'fundir': 137, 'garantir': 138, 'grave': 139, 'h.': 140, 'haber': 141, 'hechizo': 142, 'hecho': 143, 'hombre': 144, 'hospital': 145, 'identificar': 146, 'ilegal': 147, 'imputar': 148, 'incendiario': 149, 'incidente': 150, 'inicial': 151, 'interceptar': 152, 'internar': 153, 'investigación': 154, 'investigar': 155, 'investigativa': 156, 'j.': 157, 'juan': 158, 'judicial': 159, 'jueves': 160, 'juzgar': 161, 'lesionar': 162, 'm.': 163, 'mediodía': 164, 'mesar': 165, 'ministerio': 166, 'miércoles': 167, 'mujer': 168, 'munición': 169, 'nocturno': 170, 'p.': 171, 'parapetar': 172, 'participación': 173, 'patrullaje': 174, 'patrullar': 175, 'permanecer': 176, 'persecutor': 177, 'personar': 178, 'plazo': 179, 'policía': 180, 'portar': 181, 'presentar': 182, 'preventivo': 183, 'prisión': 184, 'procedimiento': 185, 'producir': 186, 'producto': 187, 'protagonizar': 188, 'provincia': 189, 'público': 190, 'quemar': 191, 'realizar': 192, 'receptación': 193, 'rechazar': 194, 'región': 195, 'resultar': 196, 'rural': 197, 'semanal': 198, 'solicitar': 199, 'sujetar': 200, 'sujeto': 201, 'tipo': 202, 'tirúa': 203, 'tribunal': 204, 'vehículo': 205, 'violencia': 206, 'wagemann': 207, 'y.': 208, 'yáñez': 209, 'zona': 210, '  ': 211, '3': 212, 'aprender': 213, 'asignar': 214, 'asistir': 215, 'atención': 216, 'autorización': 217, 'autorizar': 218, 'benjamín': 219, 'básico': 220, 'cambiar': 221, 'caminar': 222, 'cartero': 223, 'casar': 224, 'ciclar': 225, 'clase': 226, 'colegiar': 227, 'constituir': 228, 'contar': 229, 'correr': 230, 'corresponder': 231, 'culminar': 232, 'cursar': 233, 'decidir': 234, 'designar': 235, 'división': 236, 'duoc': 237, 'edad': 238, 'educacional': 239, 'educación': 240, 'educarse': 241, 'efectivamente': 242, 'entrar': 243, 'entregar': 244, 'escoger': 245, 'escolar': 246, 'escuela': 247, 'específico': 248, 'esperar': 249, 'establecimiento': 250, 'estadístico': 251, 'estimar': 252, 'estudiante': 253, 'estudiar': 254, 'estudio': 255, 'examen': 256, 'examinador': 257, 'excepcionalidad': 258, 'facilitar': 259, 'favorecer': 260, 'formar': 261, 'fácil': 262, 'gestión': 263, 'gonzalo': 264, 'gracia': 265, 'herrero': 266, 'infografía': 267, 'informático': 268, 'ingeniería': 269, 'ingresar': 270, 'inscribirse': 271, 'jefe': 272, 'joven': 273, 'libre': 274, 'libro': 275, 'llamativo': 276, 'malo': 277, 'mariano': 278, 'mayor': 279, 'menor': 280, 'mil': 281, 'mineduc': 282, 'mitad': 283, 'muñoz': 284, 'nivelar': 285, 'niño': 286, 'opción': 287, 'optar': 288, 'padre': 289, 'parra': 290, 'particular': 291, 'personal': 292, 'pesar': 293, 'poder': 294, 'preferentemente': 295, 'preparar': 296, 'problema': 297, 'profesor': 298, 'programar': 299, 'prueba': 300, 'querer': 301, 'recalcar': 302, 'rendir': 303, 'responsable': 304, 'semana': 305, 'sentir': 306, 'simce': 307, 'sistema': 308, 'situación': 309, 'temario': 310, 'terminar': 311, 'tomar': 312, 'trámite': 313, 'volver': 314, '°': 315, 'activar': 316, 'afectar': 317, 'agregar': 318, 'altamente': 319, 'américa': 320, 'anomalía': 321, 'basar': 322, 'bebé': 323, 'biológico': 324, 'brotar': 325, 'capar': 326, 'capaz': 327, 'caso': 328, 'causar': 329, 'cell': 330, 'celular': 331, 'cerebral': 332, 'cerebro': 333, 'científico': 334, 'circunstancial': 335, 'claramente': 336, 'codirigir': 337, 'coherente': 338, 'comparación': 339, 'complicación': 340, 'comprobar': 341, 'concluir': 342, 'conocer': 343, 'copiar': 344, 'crucial': 345, 'cráneo': 346, 'célula': 347, 'córtex': 348, 'dañar': 349, 'decena': 350, 'demostrar': 351, 'destruir': 352, 'directamente': 353, 'drástico': 354, 'eficacia': 355, 'experiencia': 356, 'experimental': 357, 'explicar': 358, 'exponer': 359, 'exposición': 360, 'extender': 361, 'fetal': 362, 'feto': 363, 'gen': 364, 'gripe': 365, 'guo': 366, 'hallar': 367, 'hnpcs': 368, 'hopkins': 369, 'humano': 370, 'ileso': 371, 'incrementar': 372, 'indicar': 373, 'infección': 374, 'infectar': 375, 'instituto': 376, 'inusual': 377, 'johns': 378, 'laboratorio': 379, 'latino': 380, 'luchar': 381, 'madre': 382, 'maduro': 383, 'malformación': 384, 'maryland': 385, 'medicamento': 386, 'microcefalia': 387, 'ming': 388, 'morir': 389, 'mosquito': 390, 'nacido': 391, 'necesario': 392, 'neurología': 393, 'neurona': 394, 'neuronal': 395, 'observación': 396, 'oms': 397, 'organización': 398, 'peligroso': 399, 'potencialmente': 400, 'prever': 401, 'probar': 402, 'progenitor': 403, 'proteger': 404, 'publicar': 405, 'recentar': 406, 'recién': 407, 'reducir': 408, 'relativamente': 409, 'replicar': 410, 'resfriar': 411, 'revelar': 412, 'revistar': 413, 'rápidamente': 414, 'salud': 415, 'severo': 416, 'significativo': 417, 'sospechar': 418, 'stem': 419, 'superficial': 420, 'síntoma': 421, 'tejido': 422, 'transmitir': 423, 'trastorno': 424, 'unir': 425, 'viernes': 426, 'virus': 427, 'vulnerable': 428, 'vínculo': 429, 'zika': 430, '-que': 431, '25-': 432, '3d': 433, 'abril': 434, 'abrir': 435, 'abuelo': 436, 'aclarar': 437, 'acompañar': 438, 'acreditar': 439, 'acuñar': 440, 'adjudicar': 441, 'adulto': 442, 'aforar': 443, 'agrupar': 444, 'aislar': 445, 'alejandro': 446, 'aliens': 447, 'allende': 448, 'ambientar': 449, 'ambos': 450, 'américas': 451, 'angelito': 452, 'animachi': 453, 'animación': 454, 'animador': 455, 'animar': 456, 'anunciar': 457, 'apañar': 458, 'aporte': 459, 'apoyar': 460, 'argentino': 461, 'artístico': 462, 'asociación': 463, 'atiempo': 464, 'audiovisual': 465, 'aventurar': 466, 'bernardita': 467, 'boom': 468, 'brindar': 469, 'bromear': 470, 'brothers': 471, 'buscar': 472, 'cadena': 473, 'cambio': 474, 'canal': 475, 'caro': 476, 'cartoon': 477, 'celebración': 478, 'ceppi': 479, 'ceppi.pero': 480, 'cerdo': 481, 'cerrar': 482, 'chavo': 483, 'chespirito': 484, 'chico': 485, 'chile': 486, 'chilemonos': 487, 'chileno': 488, 'chilote': 489, 'chv': 490, 'ciencia': 491, 'cintar': 492, 'clarita': 493, 'cntv': 494, 'cocar': 495, 'cociña': 496, 'colonia': 497, 'comercial': 498, 'compañía': 499, 'complejo': 500, 'completar': 501, 'comprar': 502, 'concordar': 503, 'concursar': 504, 'condicionar': 505, 'confianza': 506, 'conquistar': 507, 'consejo': 508, 'considerar': 509, 'contenido': 510, 'controlar': 511, 'convertir': 512, 'convertirse': 513, 'convocatorio': 514, 'coproducción': 515, 'corfo': 516, 'costoso': 517, 'cristóbal': 518, 'cultura': 519, 'deber': 520, 'desafío': 521, 'destin': 522, 'dibujo': 523, 'diego': 524, 'dignidad': 525, 'diluviar': 526, 'director': 527, 'dirigir': 528, 'disciplinar': 529, 'disfrutar': 530, 'disney': 531, 'distinto': 532, 'dulce': 533, 'efecto': 534, 'ejemplificar': 535, 'elegir': 536, 'emitir': 537, 'encontrarse': 538, 'enfrentar': 539, 'enumerar': 540, 'error': 541, 'erwin': 542, 'escapar': 543, 'escaso': 544, 'estancar': 545, 'estar': 546, 'estrenar': 547, 'existir': 548, 'exitoso': 549, 'extranjero': 550, 'extremo': 551, 'fantástico': 552, 'fenómeno': 553, 'ficción': 554, 'filial': 555, 'filmar': 556, 'finalizar': 557, 'financiamiento': 558, 'flippos': 559, 'fomentar': 560, 'fondo': 561, 'franja': 562, 'fruto': 563, 'fundación': 564, 'futuro': 565, 'fábula': 566, 'ganar': 567, 'gato': 568, 'gente': 569, 'germán': 570, 'globo': 571, 'glot': 572, 'gozar': 573, 'grande': 574, 'gremial': 575, 'gómez': 576, 'gómez.tras': 577, 'habitar': 578, 'hacer': 579, 'hijo': 580, 'historia': 581, 'hito': 582, 'homeless': 583, 'hostal': 584, 'imaginario': 585, 'impartir': 586, 'importante': 587, 'incierto': 588, 'independiente': 589, 'industrialización': 590, 'infantil': 591, 'inspirar': 592, 'interés': 593, 'invertir': 594, 'joaquín': 595, 'jugar': 596, 'lamentar': 597, 'largo': 598, 'largometraje': 599, 'levantar': 600, 'león': 601, 'librar': 602, 'listo': 603, 'llegar': 604, 'llevar': 605, 'lobo': 606, 'lunes': 607, 'lópez': 608, 'mampato': 609, 'mangar': 610, 'mar': 611, 'marciano': 612, 'mascota': 613, 'matilde': 614, 'mediatización': 615, 'mejorar': 616, 'miedo': 617, 'mirar': 618, 'moderno': 619, 'morrison': 620, 'mostrar': 621, 'motion': 622, 'muelín': 623, 'mundo': 624, 'mágico': 625, 'más.el': 626, 'nahuel': 627, 'naufragar': 628, 'necesitar': 629, 'netflix': 630, 'network': 631, 'nui': 632, 'nulo': 633, 'objetar': 634, 'obtener': 635, 'ogú': 636, 'ojeda': 637, 'ojo': 638, 'oportunidad': 639, 'organismo': 640, 'origen': 641, 'osar': 642, 'oscar': 643, 'pakapaka': 644, 'panorama': 645, 'pantalla': 646, 'papel': 647, 'papelucho': 648, 'parecer': 649, 'paso': 650, 'patrocinio': 651, 'película': 652, 'pensar': 653, 'perlita': 654, 'perpetuar': 655, 'pescador': 656, 'peso': 657, 'pirata': 658, 'planeta': 659, 'plataforma': 660, 'poner': 661, 'preguntar': 662, 'premiar': 663, 'preproducción': 664, 'presentarse': 665, 'presidente': 666, 'producción': 667, 'produciéndose': 668, 'productor': 669, 'profesionalización': 670, 'profundar': 671, 'programación': 672, 'promediar': 673, 'propuesta': 674, 'proyecto': 675, 'puerto': 676, 'pulentos': 677, 'punkrobot': 678, 'pájaro': 679, 'quedar': 680, 'rapar': 681, 'recordar': 682, 'recurso': 683, 'remontar': 684, 'resonancia': 685, 'rico': 686, 'roca': 687, 'rojo': 688, 'salvador': 689, 'seguramente': 690, 'sellar': 691, 'semestre': 692, 'separar': 693, 'sepultar': 694, 'seriar': 695, 'serie': 696, 'silenciar': 697, 'similar': 698, 'simpson': 699, 'softwares': 700, 'soler': 701, 'soñar': 702, 'stop': 703, 'studio': 704, 'studios': 705, 'suerte': 706, 'sumir': 707, 'tarugo': 708, 'televisión': 709, 'temer': 710, 'temporada': 711, 'terminarla': 712, 'tevito': 713, 'tormenta': 714, 'tortuga': 715, 'trabajar': 716, 'transmisión': 717, 'transmitirse': 718, 'tv': 719, 'tvn': 720, 'técnico': 721, 'título': 722, 'universidad': 723, 'utilizar': 724, 'vacación': 725, 'vagabundo': 726, 'valparaíso': 727, 'venir': 728, 'ver': 729, 'verdura': 730, 'villa': 731, 'visitar': 732, 'vivir': 733, 'walt': 734, 'zumbástico': 735, 'álvaro': 736, 'éxito': 737, 'ó': 738, 'único': 739}\n"
     ]
    }
   ],
   "source": [
    "from gensim import corpora\n",
    "\n",
    "dictionary = corpora.Dictionary(noticias)\n",
    "print(dictionary.token2id)\n",
    "#asigna un id por cada palabra del vocabulario"
   ]
  },
  {
   "cell_type": "code",
   "execution_count": 19,
   "metadata": {},
   "outputs": [],
   "source": [
    "#transformamos el dataset en un representacion vectorial tipo bag of word\n",
    "dataset_vectorized = [dictionary.doc2bow(noticia) for noticia in noticias]"
   ]
  },
  {
   "cell_type": "code",
   "execution_count": 20,
   "metadata": {},
   "outputs": [
    {
     "name": "stdout",
     "output_type": "stream",
     "text": [
      "[[(0, 1), (1, 1), (2, 7), (3, 1), (4, 1), (5, 1), (6, 2), (7, 1), (8, 2), (9, 1), (10, 1), (11, 1), (12, 3), (13, 1), (14, 1), (15, 4), (16, 3), (17, 7), (18, 2), (19, 1), (20, 1), (21, 1), (22, 1), (23, 4), (24, 1), (25, 1), (26, 1), (27, 1), (28, 1), (29, 1), (30, 1), (31, 1), (32, 1), (33, 1), (34, 1), (35, 1), (36, 1), (37, 1), (38, 1), (39, 1), (40, 2), (41, 1), (42, 1), (43, 1), (44, 1), (45, 1), (46, 1), (47, 4), (48, 1), (49, 1), (50, 1), (51, 1), (52, 2), (53, 1), (54, 1), (55, 2), (56, 1), (57, 1), (58, 1), (59, 1), (60, 1), (61, 1), (62, 1), (63, 2), (64, 1), (65, 1), (66, 1), (67, 1), (68, 1), (69, 2), (70, 1), (71, 1), (72, 1), (73, 1), (74, 5), (75, 2), (76, 1), (77, 1), (78, 1), (79, 1), (80, 1), (81, 1), (82, 2), (83, 1), (84, 1), (85, 1), (86, 1), (87, 1), (88, 1), (89, 1), (90, 1), (91, 1), (92, 1), (93, 1), (94, 1), (95, 6), (96, 5)], [(0, 1), (2, 2), (52, 3), (60, 1), (91, 1), (95, 5), (97, 1), (98, 1), (99, 1), (100, 1), (101, 1), (102, 1), (103, 2), (104, 2), (105, 1), (106, 2), (107, 1), (108, 3), (109, 1), (110, 1), (111, 2), (112, 1), (113, 1), (114, 1), (115, 1), (116, 1), (117, 1), (118, 1), (119, 1), (120, 3), (121, 2), (122, 1), (123, 2), (124, 1), (125, 4), (126, 1), (127, 1), (128, 1), (129, 1), (130, 1), (131, 1), (132, 1), (133, 2), (134, 1), (135, 2), (136, 1), (137, 1), (138, 1), (139, 1), (140, 1), (141, 1), (142, 1), (143, 2), (144, 1), (145, 1), (146, 1), (147, 1), (148, 1), (149, 1), (150, 1), (151, 2), (152, 1), (153, 1), (154, 1), (155, 1), (156, 1), (157, 1), (158, 1), (159, 1), (160, 2), (161, 1), (162, 1), (163, 1), (164, 1), (165, 1), (166, 1), (167, 1), (168, 1), (169, 1), (170, 1), (171, 2), (172, 1), (173, 1), (174, 2), (175, 1), (176, 1), (177, 1), (178, 1), (179, 1), (180, 1), (181, 1), (182, 1), (183, 1), (184, 1), (185, 1), (186, 1), (187, 1), (188, 1), (189, 1), (190, 1), (191, 1), (192, 1), (193, 1), (194, 1), (195, 1), (196, 1), (197, 1), (198, 1), (199, 1), (200, 1), (201, 1), (202, 1), (203, 1), (204, 1), (205, 2), (206, 1), (207, 1), (208, 1), (209, 2), (210, 1)], [(0, 1), (2, 11), (10, 2), (15, 3), (18, 1), (52, 1), (63, 1), (95, 14), (96, 4), (111, 2), (130, 1), (166, 1), (192, 1), (196, 1), (211, 5), (212, 1), (213, 1), (214, 1), (215, 1), (216, 1), (217, 2), (218, 1), (219, 1), (220, 1), (221, 1), (222, 1), (223, 1), (224, 4), (225, 1), (226, 2), (227, 6), (228, 1), (229, 1), (230, 1), (231, 1), (232, 1), (233, 1), (234, 1), (235, 1), (236, 1), (237, 1), (238, 2), (239, 2), (240, 2), (241, 1), (242, 1), (243, 1), (244, 1), (245, 1), (246, 2), (247, 1), (248, 1), (249, 1), (250, 1), (251, 1), (252, 1), (253, 2), (254, 5), (255, 2), (256, 3), (257, 3), (258, 1), (259, 1), (260, 1), (261, 2), (262, 1), (263, 1), (264, 1), (265, 1), (266, 1), (267, 1), (268, 1), (269, 1), (270, 1), (271, 1), (272, 1), (273, 1), (274, 4), (275, 1), (276, 1), (277, 1), (278, 2), (279, 3), (280, 2), (281, 3), (282, 5), (283, 1), (284, 3), (285, 1), (286, 1), (287, 1), (288, 1), (289, 1), (290, 1), (291, 1), (292, 1), (293, 1), (294, 1), (295, 1), (296, 1), (297, 1), (298, 1), (299, 1), (300, 5), (301, 1), (302, 1), (303, 1), (304, 1), (305, 1), (306, 1), (307, 1), (308, 2), (309, 1), (310, 2), (311, 2), (312, 1), (313, 1), (314, 1), (315, 5)], [(0, 1), (2, 8), (14, 1), (28, 3), (51, 1), (65, 1), (68, 3), (71, 1), (95, 11), (96, 16), (102, 2), (111, 1), (146, 1), (154, 1), (182, 3), (186, 1), (196, 5), (202, 3), (210, 1), (211, 23), (224, 1), (254, 4), (255, 1), (261, 1), (269, 1), (298, 1), (300, 1), (316, 1), (317, 1), (318, 1), (319, 1), (320, 1), (321, 1), (322, 1), (323, 1), (324, 1), (325, 1), (326, 1), (327, 1), (328, 1), (329, 2), (330, 2), (331, 1), (332, 1), (333, 3), (334, 1), (335, 1), (336, 1), (337, 1), (338, 1), (339, 1), (340, 1), (341, 1), (342, 1), (343, 1), (344, 1), (345, 1), (346, 1), (347, 10), (348, 3), (349, 1), (350, 1), (351, 1), (352, 1), (353, 1), (354, 1), (355, 1), (356, 1), (357, 1), (358, 1), (359, 1), (360, 1), (361, 1), (362, 1), (363, 3), (364, 1), (365, 1), (366, 1), (367, 1), (368, 3), (369, 1), (370, 4), (371, 1), (372, 1), (373, 1), (374, 1), (375, 3), (376, 2), (377, 1), (378, 1), (379, 3), (380, 1), (381, 1), (382, 1), (383, 1), (384, 1), (385, 1), (386, 1), (387, 4), (388, 2), (389, 1), (390, 1), (391, 1), (392, 1), (393, 1), (394, 2), (395, 1), (396, 1), (397, 1), (398, 1), (399, 1), (400, 1), (401, 1), (402, 1), (403, 1), (404, 1), (405, 2), (406, 1), (407, 1), (408, 2), (409, 1), (410, 1), (411, 1), (412, 1), (413, 1), (414, 1), (415, 1), (416, 2), (417, 1), (418, 1), (419, 1), (420, 1), (421, 1), (422, 1), (423, 1), (424, 1), (425, 1), (426, 1), (427, 10), (428, 2), (429, 2), (430, 6)], [(0, 1), (2, 21), (12, 1), (15, 11), (19, 1), (22, 1), (28, 2), (35, 1), (41, 1), (42, 1), (57, 1), (63, 2), (66, 1), (68, 1), (70, 2), (71, 4), (78, 1), (79, 4), (88, 2), (95, 35), (96, 2), (111, 4), (128, 1), (131, 1), (141, 4), (168, 1), (186, 2), (190, 1), (192, 1), (202, 1), (211, 13), (216, 1), (224, 5), (229, 2), (244, 1), (249, 5), (255, 1), (281, 1), (286, 5), (289, 1), (299, 1), (301, 1), (304, 1), (305, 1), (311, 1), (314, 1), (318, 1), (342, 1), (343, 5), (350, 1), (358, 3), (423, 4), (431, 1), (432, 1), (433, 2), (434, 1), (435, 2), (436, 1), (437, 1), (438, 1), (439, 1), (440, 2), (441, 1), (442, 1), (443, 2), (444, 1), (445, 1), (446, 1), (447, 1), (448, 1), (449, 1), (450, 1), (451, 1), (452, 1), (453, 1), (454, 9), (455, 5), (456, 10), (457, 1), (458, 1), (459, 1), (460, 5), (461, 2), (462, 1), (463, 1), (464, 1), (465, 3), (466, 1), (467, 2), (468, 1), (469, 1), (470, 1), (471, 1), (472, 1), (473, 1), (474, 1), (475, 6), (476, 1), (477, 4), (478, 1), (479, 4), (480, 1), (481, 1), (482, 1), (483, 1), (484, 1), (485, 1), (486, 9), (487, 2), (488, 12), (489, 1), (490, 1), (491, 1), (492, 1), (493, 1), (494, 4), (495, 1), (496, 2), (497, 2), (498, 1), (499, 1), (500, 1), (501, 1), (502, 1), (503, 1), (504, 1), (505, 1), (506, 1), (507, 1), (508, 4), (509, 1), (510, 1), (511, 1), (512, 1), (513, 1), (514, 1), (515, 1), (516, 2), (517, 1), (518, 1), (519, 4), (520, 1), (521, 1), (522, 1), (523, 2), (524, 1), (525, 2), (526, 2), (527, 5), (528, 1), (529, 1), (530, 1), (531, 1), (532, 1), (533, 1), (534, 1), (535, 1), (536, 1), (537, 1), (538, 1), (539, 1), (540, 1), (541, 1), (542, 3), (543, 1), (544, 1), (545, 1), (546, 2), (547, 1), (548, 2), (549, 1), (550, 2), (551, 2), (552, 1), (553, 1), (554, 1), (555, 1), (556, 2), (557, 1), (558, 1), (559, 1), (560, 1), (561, 6), (562, 1), (563, 1), (564, 1), (565, 1), (566, 1), (567, 2), (568, 1), (569, 2), (570, 1), (571, 1), (572, 1), (573, 1), (574, 2), (575, 1), (576, 2), (577, 1), (578, 1), (579, 1), (580, 1), (581, 6), (582, 1), (583, 1), (584, 2), (585, 1), (586, 1), (587, 1), (588, 1), (589, 2), (590, 1), (591, 3), (592, 1), (593, 2), (594, 1), (595, 1), (596, 1), (597, 1), (598, 1), (599, 3), (600, 1), (601, 2), (602, 1), (603, 1), (604, 1), (605, 2), (606, 1), (607, 1), (608, 1), (609, 1), (610, 1), (611, 1), (612, 1), (613, 1), (614, 2), (615, 1), (616, 1), (617, 1), (618, 1), (619, 1), (620, 2), (621, 1), (622, 2), (623, 1), (624, 1), (625, 2), (626, 1), (627, 1), (628, 1), (629, 1), (630, 1), (631, 4), (632, 1), (633, 1), (634, 1), (635, 1), (636, 1), (637, 2), (638, 1), (639, 2), (640, 1), (641, 1), (642, 3), (643, 7), (644, 1), (645, 1), (646, 1), (647, 1), (648, 1), (649, 1), (650, 2), (651, 1), (652, 7), (653, 1), (654, 1), (655, 1), (656, 1), (657, 1), (658, 1), (659, 1), (660, 1), (661, 1), (662, 3), (663, 1), (664, 1), (665, 1), (666, 1), (667, 3), (668, 1), (669, 7), (670, 1), (671, 1), (672, 1), (673, 1), (674, 1), (675, 3), (676, 1), (677, 1), (678, 2), (679, 2), (680, 1), (681, 1), (682, 1), (683, 2), (684, 1), (685, 1), (686, 1), (687, 1), (688, 1), (689, 1), (690, 1), (691, 1), (692, 1), (693, 1), (694, 1), (695, 4), (696, 5), (697, 1), (698, 1), (699, 1), (700, 1), (701, 1), (702, 1), (703, 2), (704, 1), (705, 1), (706, 1), (707, 2), (708, 1), (709, 1), (710, 1), (711, 2), (712, 1), (713, 1), (714, 1), (715, 1), (716, 1), (717, 2), (718, 1), (719, 2), (720, 3), (721, 1), (722, 1), (723, 2), (724, 1), (725, 1), (726, 1), (727, 1), (728, 2), (729, 1), (730, 1), (731, 1), (732, 1), (733, 1), (734, 1), (735, 5), (736, 2), (737, 1), (738, 1), (739, 1)]]\n"
     ]
    }
   ],
   "source": [
    "print(dataset_vectorized)"
   ]
  },
  {
   "cell_type": "markdown",
   "metadata": {},
   "source": [
    "### 6.4 Representar la relevancia de cada palabra con TF-IDF"
   ]
  },
  {
   "cell_type": "code",
   "execution_count": 21,
   "metadata": {},
   "outputs": [],
   "source": [
    "#Convertir el BOW en una representación TF-IDF\n",
    "from gensim import models\n",
    "tfidf = models.TfidfModel(dataset_vectorized)"
   ]
  },
  {
   "cell_type": "code",
   "execution_count": 22,
   "metadata": {},
   "outputs": [
    {
     "name": "stdout",
     "output_type": "stream",
     "text": [
      "[(1, 0.0686925314380587), (3, 0.0686925314380587), (4, 0.0686925314380587), (5, 0.0686925314380587), (6, 0.1373850628761174), (7, 0.0686925314380587), (8, 0.1373850628761174), (9, 0.0686925314380587), (10, 0.03910826843296724), (11, 0.0686925314380587), (12, 0.11732480529890173), (13, 0.0686925314380587), (14, 0.03910826843296724), (15, 0.08721033585406619), (16, 0.20607759431417613), (17, 0.48084772006641097), (18, 0.07821653686593448), (19, 0.03910826843296724), (20, 0.0686925314380587), (21, 0.0686925314380587), (22, 0.03910826843296724), (23, 0.2747701257522348), (24, 0.0686925314380587), (25, 0.0686925314380587), (26, 0.0686925314380587), (27, 0.0686925314380587), (28, 0.021802583963516548), (29, 0.0686925314380587), (30, 0.0686925314380587), (31, 0.0686925314380587), (32, 0.0686925314380587), (33, 0.0686925314380587), (34, 0.0686925314380587), (35, 0.03910826843296724), (36, 0.0686925314380587), (37, 0.0686925314380587), (38, 0.0686925314380587), (39, 0.0686925314380587), (40, 0.1373850628761174), (41, 0.03910826843296724), (42, 0.03910826843296724), (43, 0.0686925314380587), (44, 0.0686925314380587), (45, 0.0686925314380587), (46, 0.0686925314380587), (47, 0.2747701257522348), (48, 0.0686925314380587), (49, 0.0686925314380587), (50, 0.0686925314380587), (51, 0.03910826843296724), (52, 0.043605167927033096), (53, 0.0686925314380587), (54, 0.0686925314380587), (55, 0.1373850628761174), (56, 0.0686925314380587), (57, 0.03910826843296724), (58, 0.0686925314380587), (59, 0.0686925314380587), (60, 0.03910826843296724), (61, 0.0686925314380587), (62, 0.0686925314380587), (63, 0.043605167927033096), (64, 0.0686925314380587), (65, 0.03910826843296724), (66, 0.03910826843296724), (67, 0.0686925314380587), (68, 0.021802583963516548), (69, 0.1373850628761174), (70, 0.03910826843296724), (71, 0.021802583963516548), (72, 0.0686925314380587), (73, 0.0686925314380587), (74, 0.3434626571902935), (75, 0.1373850628761174), (76, 0.0686925314380587), (77, 0.0686925314380587), (78, 0.03910826843296724), (79, 0.03910826843296724), (80, 0.0686925314380587), (81, 0.0686925314380587), (82, 0.1373850628761174), (83, 0.0686925314380587), (84, 0.0686925314380587), (85, 0.0686925314380587), (86, 0.0686925314380587), (87, 0.0686925314380587), (88, 0.03910826843296724), (89, 0.0686925314380587), (90, 0.0686925314380587), (91, 0.03910826843296724), (92, 0.0686925314380587), (93, 0.0686925314380587), (94, 0.0686925314380587), (96, 0.04762002713937886)]\n",
      "[(52, 0.07178881408256643), (60, 0.042923600498047845), (91, 0.042923600498047845), (97, 0.07539405079262702), (98, 0.07539405079262702), (99, 0.07539405079262702), (100, 0.07539405079262702), (101, 0.07539405079262702), (102, 0.042923600498047845), (103, 0.15078810158525405), (104, 0.15078810158525405), (105, 0.07539405079262702), (106, 0.15078810158525405), (107, 0.07539405079262702), (108, 0.22618215237788106), (109, 0.07539405079262702), (110, 0.07539405079262702), (111, 0.020906300406937337), (112, 0.07539405079262702), (113, 0.07539405079262702), (114, 0.07539405079262702), (115, 0.07539405079262702), (116, 0.07539405079262702), (117, 0.07539405079262702), (118, 0.07539405079262702), (119, 0.07539405079262702), (120, 0.22618215237788106), (121, 0.15078810158525405), (122, 0.07539405079262702), (123, 0.15078810158525405), (124, 0.07539405079262702), (125, 0.3015762031705081), (126, 0.07539405079262702), (127, 0.07539405079262702), (128, 0.042923600498047845), (129, 0.07539405079262702), (130, 0.042923600498047845), (131, 0.042923600498047845), (132, 0.07539405079262702), (133, 0.15078810158525405), (134, 0.07539405079262702), (135, 0.15078810158525405), (136, 0.07539405079262702), (137, 0.07539405079262702), (138, 0.07539405079262702), (139, 0.07539405079262702), (140, 0.07539405079262702), (141, 0.042923600498047845), (142, 0.07539405079262702), (143, 0.15078810158525405), (144, 0.07539405079262702), (145, 0.07539405079262702), (146, 0.042923600498047845), (147, 0.07539405079262702), (148, 0.07539405079262702), (149, 0.07539405079262702), (150, 0.07539405079262702), (151, 0.15078810158525405), (152, 0.07539405079262702), (153, 0.07539405079262702), (154, 0.042923600498047845), (155, 0.07539405079262702), (156, 0.07539405079262702), (157, 0.07539405079262702), (158, 0.07539405079262702), (159, 0.07539405079262702), (160, 0.15078810158525405), (161, 0.07539405079262702), (162, 0.07539405079262702), (163, 0.07539405079262702), (164, 0.07539405079262702), (165, 0.07539405079262702), (166, 0.042923600498047845), (167, 0.07539405079262702), (168, 0.042923600498047845), (169, 0.07539405079262702), (170, 0.07539405079262702), (171, 0.15078810158525405), (172, 0.07539405079262702), (173, 0.07539405079262702), (174, 0.15078810158525405), (175, 0.07539405079262702), (176, 0.07539405079262702), (177, 0.07539405079262702), (178, 0.07539405079262702), (179, 0.07539405079262702), (180, 0.07539405079262702), (181, 0.07539405079262702), (182, 0.042923600498047845), (183, 0.07539405079262702), (184, 0.07539405079262702), (185, 0.07539405079262702), (186, 0.02392960469418881), (187, 0.07539405079262702), (188, 0.07539405079262702), (189, 0.07539405079262702), (190, 0.042923600498047845), (191, 0.07539405079262702), (192, 0.02392960469418881), (193, 0.07539405079262702), (194, 0.07539405079262702), (195, 0.07539405079262702), (196, 0.02392960469418881), (197, 0.07539405079262702), (198, 0.07539405079262702), (199, 0.07539405079262702), (200, 0.07539405079262702), (201, 0.07539405079262702), (202, 0.02392960469418881), (203, 0.07539405079262702), (204, 0.07539405079262702), (205, 0.15078810158525405), (206, 0.07539405079262702), (207, 0.07539405079262702), (208, 0.07539405079262702), (209, 0.15078810158525405), (210, 0.042923600498047845)]\n",
      "[(10, 0.06787448206582689), (15, 0.05675931792110195), (18, 0.03393724103291344), (52, 0.018919772640367316), (63, 0.018919772640367316), (96, 0.03305883699336903), (111, 0.016529418496684514), (130, 0.03393724103291344), (166, 0.03393724103291344), (192, 0.018919772640367316), (196, 0.018919772640367316), (211, 0.09459886320183658), (212, 0.05960977281748462), (213, 0.05960977281748462), (214, 0.05960977281748462), (215, 0.05960977281748462), (216, 0.03393724103291344), (217, 0.11921954563496924), (218, 0.05960977281748462), (219, 0.05960977281748462), (220, 0.05960977281748462), (221, 0.05960977281748462), (222, 0.05960977281748462), (223, 0.05960977281748462), (224, 0.07567909056146926), (225, 0.05960977281748462), (226, 0.11921954563496924), (227, 0.35765863690490773), (228, 0.05960977281748462), (229, 0.03393724103291344), (230, 0.05960977281748462), (231, 0.05960977281748462), (232, 0.05960977281748462), (233, 0.05960977281748462), (234, 0.05960977281748462), (235, 0.05960977281748462), (236, 0.05960977281748462), (237, 0.05960977281748462), (238, 0.11921954563496924), (239, 0.11921954563496924), (240, 0.11921954563496924), (241, 0.05960977281748462), (242, 0.05960977281748462), (243, 0.05960977281748462), (244, 0.03393724103291344), (245, 0.05960977281748462), (246, 0.11921954563496924), (247, 0.05960977281748462), (248, 0.05960977281748462), (249, 0.03393724103291344), (250, 0.05960977281748462), (251, 0.05960977281748462), (252, 0.05960977281748462), (253, 0.11921954563496924), (254, 0.1696862051645672), (255, 0.03783954528073463), (256, 0.17882931845245387), (257, 0.17882931845245387), (258, 0.05960977281748462), (259, 0.05960977281748462), (260, 0.05960977281748462), (261, 0.06787448206582689), (262, 0.05960977281748462), (263, 0.05960977281748462), (264, 0.05960977281748462), (265, 0.05960977281748462), (266, 0.05960977281748462), (267, 0.05960977281748462), (268, 0.05960977281748462), (269, 0.03393724103291344), (270, 0.05960977281748462), (271, 0.05960977281748462), (272, 0.05960977281748462), (273, 0.05960977281748462), (274, 0.23843909126993848), (275, 0.05960977281748462), (276, 0.05960977281748462), (277, 0.05960977281748462), (278, 0.11921954563496924), (279, 0.17882931845245387), (280, 0.11921954563496924), (281, 0.10181172309874031), (282, 0.2980488640874231), (283, 0.05960977281748462), (284, 0.17882931845245387), (285, 0.05960977281748462), (286, 0.03393724103291344), (287, 0.05960977281748462), (288, 0.05960977281748462), (289, 0.03393724103291344), (290, 0.05960977281748462), (291, 0.05960977281748462), (292, 0.05960977281748462), (293, 0.05960977281748462), (294, 0.05960977281748462), (295, 0.05960977281748462), (296, 0.05960977281748462), (297, 0.05960977281748462), (298, 0.03393724103291344), (299, 0.03393724103291344), (300, 0.1696862051645672), (301, 0.03393724103291344), (302, 0.05960977281748462), (303, 0.05960977281748462), (304, 0.03393724103291344), (305, 0.03393724103291344), (306, 0.05960977281748462), (307, 0.05960977281748462), (308, 0.11921954563496924), (309, 0.05960977281748462), (310, 0.11921954563496924), (311, 0.06787448206582689), (312, 0.05960977281748462), (313, 0.05960977281748462), (314, 0.03393724103291344), (315, 0.2980488640874231)]\n",
      "[(14, 0.024765875947776374), (28, 0.04142040377269099), (51, 0.024765875947776374), (65, 0.024765875947776374), (68, 0.04142040377269099), (71, 0.013806801257563662), (96, 0.09649942435350073), (102, 0.04953175189555275), (111, 0.0060312140220937956), (146, 0.024765875947776374), (154, 0.024765875947776374), (182, 0.07429762784332912), (186, 0.013806801257563662), (196, 0.0690340062878183), (202, 0.04142040377269099), (210, 0.024765875947776374), (211, 0.31755642892396424), (224, 0.013806801257563662), (254, 0.0990635037911055), (255, 0.013806801257563662), (261, 0.024765875947776374), (269, 0.024765875947776374), (298, 0.024765875947776374), (300, 0.024765875947776374), (316, 0.04350053787345895), (317, 0.04350053787345895), (318, 0.024765875947776374), (319, 0.04350053787345895), (320, 0.04350053787345895), (321, 0.04350053787345895), (322, 0.04350053787345895), (323, 0.04350053787345895), (324, 0.04350053787345895), (325, 0.04350053787345895), (326, 0.04350053787345895), (327, 0.04350053787345895), (328, 0.04350053787345895), (329, 0.0870010757469179), (330, 0.0870010757469179), (331, 0.04350053787345895), (332, 0.04350053787345895), (333, 0.13050161362037685), (334, 0.04350053787345895), (335, 0.04350053787345895), (336, 0.04350053787345895), (337, 0.04350053787345895), (338, 0.04350053787345895), (339, 0.04350053787345895), (340, 0.04350053787345895), (341, 0.04350053787345895), (342, 0.024765875947776374), (343, 0.024765875947776374), (344, 0.04350053787345895), (345, 0.04350053787345895), (346, 0.04350053787345895), (347, 0.4350053787345895), (348, 0.13050161362037685), (349, 0.04350053787345895), (350, 0.024765875947776374), (351, 0.04350053787345895), (352, 0.04350053787345895), (353, 0.04350053787345895), (354, 0.04350053787345895), (355, 0.04350053787345895), (356, 0.04350053787345895), (357, 0.04350053787345895), (358, 0.024765875947776374), (359, 0.04350053787345895), (360, 0.04350053787345895), (361, 0.04350053787345895), (362, 0.04350053787345895), (363, 0.13050161362037685), (364, 0.04350053787345895), (365, 0.04350053787345895), (366, 0.04350053787345895), (367, 0.04350053787345895), (368, 0.13050161362037685), (369, 0.04350053787345895), (370, 0.1740021514938358), (371, 0.04350053787345895), (372, 0.04350053787345895), (373, 0.04350053787345895), (374, 0.04350053787345895), (375, 0.13050161362037685), (376, 0.0870010757469179), (377, 0.04350053787345895), (378, 0.04350053787345895), (379, 0.13050161362037685), (380, 0.04350053787345895), (381, 0.04350053787345895), (382, 0.04350053787345895), (383, 0.04350053787345895), (384, 0.04350053787345895), (385, 0.04350053787345895), (386, 0.04350053787345895), (387, 0.1740021514938358), (388, 0.0870010757469179), (389, 0.04350053787345895), (390, 0.04350053787345895), (391, 0.04350053787345895), (392, 0.04350053787345895), (393, 0.04350053787345895), (394, 0.0870010757469179), (395, 0.04350053787345895), (396, 0.04350053787345895), (397, 0.04350053787345895), (398, 0.04350053787345895), (399, 0.04350053787345895), (400, 0.04350053787345895), (401, 0.04350053787345895), (402, 0.04350053787345895), (403, 0.04350053787345895), (404, 0.04350053787345895), (405, 0.0870010757469179), (406, 0.04350053787345895), (407, 0.04350053787345895), (408, 0.0870010757469179), (409, 0.04350053787345895), (410, 0.04350053787345895), (411, 0.04350053787345895), (412, 0.04350053787345895), (413, 0.04350053787345895), (414, 0.04350053787345895), (415, 0.04350053787345895), (416, 0.0870010757469179), (417, 0.04350053787345895), (418, 0.04350053787345895), (419, 0.04350053787345895), (420, 0.04350053787345895), (421, 0.04350053787345895), (422, 0.04350053787345895), (423, 0.024765875947776374), (424, 0.04350053787345895), (425, 0.04350053787345895), (426, 0.04350053787345895), (427, 0.4350053787345895), (428, 0.0870010757469179), (429, 0.0870010757469179), (430, 0.2610032272407537)]\n",
      "[(12, 0.014786660263957838), (15, 0.09067804746898163), (19, 0.014786660263957838), (22, 0.014786660263957838), (28, 0.016486917721633024), (35, 0.014786660263957838), (41, 0.014786660263957838), (42, 0.014786660263957838), (57, 0.014786660263957838), (63, 0.016486917721633024), (66, 0.014786660263957838), (68, 0.008243458860816512), (70, 0.029573320527915677), (71, 0.03297383544326605), (78, 0.014786660263957838), (79, 0.05914664105583135), (88, 0.029573320527915677), (96, 0.00720196716740212), (111, 0.01440393433480424), (128, 0.014786660263957838), (131, 0.014786660263957838), (141, 0.05914664105583135), (168, 0.014786660263957838), (186, 0.016486917721633024), (190, 0.014786660263957838), (192, 0.008243458860816512), (202, 0.008243458860816512), (211, 0.10716496519061466), (216, 0.014786660263957838), (224, 0.04121729430408256), (229, 0.029573320527915677), (244, 0.014786660263957838), (249, 0.07393330131978919), (255, 0.008243458860816512), (281, 0.014786660263957838), (286, 0.07393330131978919), (289, 0.014786660263957838), (299, 0.014786660263957838), (301, 0.014786660263957838), (304, 0.014786660263957838), (305, 0.014786660263957838), (311, 0.014786660263957838), (314, 0.014786660263957838), (318, 0.014786660263957838), (342, 0.014786660263957838), (343, 0.07393330131978919), (350, 0.014786660263957838), (358, 0.04435998079187351), (423, 0.05914664105583135), (431, 0.02597233694421461), (432, 0.02597233694421461), (433, 0.05194467388842922), (434, 0.02597233694421461), (435, 0.05194467388842922), (436, 0.02597233694421461), (437, 0.02597233694421461), (438, 0.02597233694421461), (439, 0.02597233694421461), (440, 0.05194467388842922), (441, 0.02597233694421461), (442, 0.02597233694421461), (443, 0.05194467388842922), (444, 0.02597233694421461), (445, 0.02597233694421461), (446, 0.02597233694421461), (447, 0.02597233694421461), (448, 0.02597233694421461), (449, 0.02597233694421461), (450, 0.02597233694421461), (451, 0.02597233694421461), (452, 0.02597233694421461), (453, 0.02597233694421461), (454, 0.2337510324979315), (455, 0.12986168472107307), (456, 0.25972336944214613), (457, 0.02597233694421461), (458, 0.02597233694421461), (459, 0.02597233694421461), (460, 0.12986168472107307), (461, 0.05194467388842922), (462, 0.02597233694421461), (463, 0.02597233694421461), (464, 0.02597233694421461), (465, 0.07791701083264384), (466, 0.02597233694421461), (467, 0.05194467388842922), (468, 0.02597233694421461), (469, 0.02597233694421461), (470, 0.02597233694421461), (471, 0.02597233694421461), (472, 0.02597233694421461), (473, 0.02597233694421461), (474, 0.02597233694421461), (475, 0.15583402166528768), (476, 0.02597233694421461), (477, 0.10388934777685845), (478, 0.02597233694421461), (479, 0.10388934777685845), (480, 0.02597233694421461), (481, 0.02597233694421461), (482, 0.02597233694421461), (483, 0.02597233694421461), (484, 0.02597233694421461), (485, 0.02597233694421461), (486, 0.2337510324979315), (487, 0.05194467388842922), (488, 0.31166804333057535), (489, 0.02597233694421461), (490, 0.02597233694421461), (491, 0.02597233694421461), (492, 0.02597233694421461), (493, 0.02597233694421461), (494, 0.10388934777685845), (495, 0.02597233694421461), (496, 0.05194467388842922), (497, 0.05194467388842922), (498, 0.02597233694421461), (499, 0.02597233694421461), (500, 0.02597233694421461), (501, 0.02597233694421461), (502, 0.02597233694421461), (503, 0.02597233694421461), (504, 0.02597233694421461), (505, 0.02597233694421461), (506, 0.02597233694421461), (507, 0.02597233694421461), (508, 0.10388934777685845), (509, 0.02597233694421461), (510, 0.02597233694421461), (511, 0.02597233694421461), (512, 0.02597233694421461), (513, 0.02597233694421461), (514, 0.02597233694421461), (515, 0.02597233694421461), (516, 0.05194467388842922), (517, 0.02597233694421461), (518, 0.02597233694421461), (519, 0.10388934777685845), (520, 0.02597233694421461), (521, 0.02597233694421461), (522, 0.02597233694421461), (523, 0.05194467388842922), (524, 0.02597233694421461), (525, 0.05194467388842922), (526, 0.05194467388842922), (527, 0.12986168472107307), (528, 0.02597233694421461), (529, 0.02597233694421461), (530, 0.02597233694421461), (531, 0.02597233694421461), (532, 0.02597233694421461), (533, 0.02597233694421461), (534, 0.02597233694421461), (535, 0.02597233694421461), (536, 0.02597233694421461), (537, 0.02597233694421461), (538, 0.02597233694421461), (539, 0.02597233694421461), (540, 0.02597233694421461), (541, 0.02597233694421461), (542, 0.07791701083264384), (543, 0.02597233694421461), (544, 0.02597233694421461), (545, 0.02597233694421461), (546, 0.05194467388842922), (547, 0.02597233694421461), (548, 0.05194467388842922), (549, 0.02597233694421461), (550, 0.05194467388842922), (551, 0.05194467388842922), (552, 0.02597233694421461), (553, 0.02597233694421461), (554, 0.02597233694421461), (555, 0.02597233694421461), (556, 0.05194467388842922), (557, 0.02597233694421461), (558, 0.02597233694421461), (559, 0.02597233694421461), (560, 0.02597233694421461), (561, 0.15583402166528768), (562, 0.02597233694421461), (563, 0.02597233694421461), (564, 0.02597233694421461), (565, 0.02597233694421461), (566, 0.02597233694421461), (567, 0.05194467388842922), (568, 0.02597233694421461), (569, 0.05194467388842922), (570, 0.02597233694421461), (571, 0.02597233694421461), (572, 0.02597233694421461), (573, 0.02597233694421461), (574, 0.05194467388842922), (575, 0.02597233694421461), (576, 0.05194467388842922), (577, 0.02597233694421461), (578, 0.02597233694421461), (579, 0.02597233694421461), (580, 0.02597233694421461), (581, 0.15583402166528768), (582, 0.02597233694421461), (583, 0.02597233694421461), (584, 0.05194467388842922), (585, 0.02597233694421461), (586, 0.02597233694421461), (587, 0.02597233694421461), (588, 0.02597233694421461), (589, 0.05194467388842922), (590, 0.02597233694421461), (591, 0.07791701083264384), (592, 0.02597233694421461), (593, 0.05194467388842922), (594, 0.02597233694421461), (595, 0.02597233694421461), (596, 0.02597233694421461), (597, 0.02597233694421461), (598, 0.02597233694421461), (599, 0.07791701083264384), (600, 0.02597233694421461), (601, 0.05194467388842922), (602, 0.02597233694421461), (603, 0.02597233694421461), (604, 0.02597233694421461), (605, 0.05194467388842922), (606, 0.02597233694421461), (607, 0.02597233694421461), (608, 0.02597233694421461), (609, 0.02597233694421461), (610, 0.02597233694421461), (611, 0.02597233694421461), (612, 0.02597233694421461), (613, 0.02597233694421461), (614, 0.05194467388842922), (615, 0.02597233694421461), (616, 0.02597233694421461), (617, 0.02597233694421461), (618, 0.02597233694421461), (619, 0.02597233694421461), (620, 0.05194467388842922), (621, 0.02597233694421461), (622, 0.05194467388842922), (623, 0.02597233694421461), (624, 0.02597233694421461), (625, 0.05194467388842922), (626, 0.02597233694421461), (627, 0.02597233694421461), (628, 0.02597233694421461), (629, 0.02597233694421461), (630, 0.02597233694421461), (631, 0.10388934777685845), (632, 0.02597233694421461), (633, 0.02597233694421461), (634, 0.02597233694421461), (635, 0.02597233694421461), (636, 0.02597233694421461), (637, 0.05194467388842922), (638, 0.02597233694421461), (639, 0.05194467388842922), (640, 0.02597233694421461), (641, 0.02597233694421461), (642, 0.07791701083264384), (643, 0.18180635860950228), (644, 0.02597233694421461), (645, 0.02597233694421461), (646, 0.02597233694421461), (647, 0.02597233694421461), (648, 0.02597233694421461), (649, 0.02597233694421461), (650, 0.05194467388842922), (651, 0.02597233694421461), (652, 0.18180635860950228), (653, 0.02597233694421461), (654, 0.02597233694421461), (655, 0.02597233694421461), (656, 0.02597233694421461), (657, 0.02597233694421461), (658, 0.02597233694421461), (659, 0.02597233694421461), (660, 0.02597233694421461), (661, 0.02597233694421461), (662, 0.07791701083264384), (663, 0.02597233694421461), (664, 0.02597233694421461), (665, 0.02597233694421461), (666, 0.02597233694421461), (667, 0.07791701083264384), (668, 0.02597233694421461), (669, 0.18180635860950228), (670, 0.02597233694421461), (671, 0.02597233694421461), (672, 0.02597233694421461), (673, 0.02597233694421461), (674, 0.02597233694421461), (675, 0.07791701083264384), (676, 0.02597233694421461), (677, 0.02597233694421461), (678, 0.05194467388842922), (679, 0.05194467388842922), (680, 0.02597233694421461), (681, 0.02597233694421461), (682, 0.02597233694421461), (683, 0.05194467388842922), (684, 0.02597233694421461), (685, 0.02597233694421461), (686, 0.02597233694421461), (687, 0.02597233694421461), (688, 0.02597233694421461), (689, 0.02597233694421461), (690, 0.02597233694421461), (691, 0.02597233694421461), (692, 0.02597233694421461), (693, 0.02597233694421461), (694, 0.02597233694421461), (695, 0.10388934777685845), (696, 0.12986168472107307), (697, 0.02597233694421461), (698, 0.02597233694421461), (699, 0.02597233694421461), (700, 0.02597233694421461), (701, 0.02597233694421461), (702, 0.02597233694421461), (703, 0.05194467388842922), (704, 0.02597233694421461), (705, 0.02597233694421461), (706, 0.02597233694421461), (707, 0.05194467388842922), (708, 0.02597233694421461), (709, 0.02597233694421461), (710, 0.02597233694421461), (711, 0.05194467388842922), (712, 0.02597233694421461), (713, 0.02597233694421461), (714, 0.02597233694421461), (715, 0.02597233694421461), (716, 0.02597233694421461), (717, 0.05194467388842922), (718, 0.02597233694421461), (719, 0.05194467388842922), (720, 0.07791701083264384), (721, 0.02597233694421461), (722, 0.02597233694421461), (723, 0.05194467388842922), (724, 0.02597233694421461), (725, 0.02597233694421461), (726, 0.02597233694421461), (727, 0.02597233694421461), (728, 0.05194467388842922), (729, 0.02597233694421461), (730, 0.02597233694421461), (731, 0.02597233694421461), (732, 0.02597233694421461), (733, 0.02597233694421461), (734, 0.02597233694421461), (735, 0.12986168472107307), (736, 0.05194467388842922), (737, 0.02597233694421461), (738, 0.02597233694421461), (739, 0.02597233694421461)]\n"
     ]
    }
   ],
   "source": [
    "for document in tfidf[dataset_vectorized]:\n",
    "    print(document)"
   ]
  },
  {
   "cell_type": "markdown",
   "metadata": {},
   "source": [
    "## 7. Clasificación de textos básica aplicada al análisis de sentimientos"
   ]
  },
  {
   "cell_type": "markdown",
   "metadata": {},
   "source": [
    "Empezaremos importando las librerías que necesitaremos para esta tarea. Ya hemos importado spaCy, pero también necesitaremos pandas y scikit-learn."
   ]
  },
  {
   "cell_type": "code",
   "execution_count": 23,
   "metadata": {},
   "outputs": [],
   "source": [
    "import pandas as pd\n",
    "from sklearn.feature_extraction.text import CountVectorizer,TfidfVectorizer\n",
    "from sklearn.base import TransformerMixin\n",
    "from sklearn.pipeline import Pipeline"
   ]
  },
  {
   "cell_type": "markdown",
   "metadata": {},
   "source": [
    "Vamos a usar un conjunto de datos real: un conjunto de reseñas de productos de Amazon Alexa. Este conjunto de datos viene como un archivo separado por tabulaciones (.tsv). Tiene cinco columnas: \n",
    "- __rating__: se refiere a la calificación que cada usuario dio a Alexa (de 0 a 5). \n",
    "- __fecha__: fecha de la reseña\n",
    "- __variación__: describe el modelo de producto Alexa que el usuario comentó.\n",
    "- __verified_reviews__: contiene el texto del comentario.\n",
    "- __feedback__: contiene un label, 0 o 1, que indica el sentimiento general negativo (0) o positivo (1)."
   ]
  },
  {
   "cell_type": "code",
   "execution_count": 24,
   "metadata": {},
   "outputs": [],
   "source": [
    "# Loading TSV file\n",
    "df_amazon = pd.read_csv (\"amazon_alexa.tsv\", sep=\"\\t\")"
   ]
  },
  {
   "cell_type": "code",
   "execution_count": 25,
   "metadata": {},
   "outputs": [
    {
     "data": {
      "text/html": [
       "<div>\n",
       "<style scoped>\n",
       "    .dataframe tbody tr th:only-of-type {\n",
       "        vertical-align: middle;\n",
       "    }\n",
       "\n",
       "    .dataframe tbody tr th {\n",
       "        vertical-align: top;\n",
       "    }\n",
       "\n",
       "    .dataframe thead th {\n",
       "        text-align: right;\n",
       "    }\n",
       "</style>\n",
       "<table border=\"1\" class=\"dataframe\">\n",
       "  <thead>\n",
       "    <tr style=\"text-align: right;\">\n",
       "      <th></th>\n",
       "      <th>rating</th>\n",
       "      <th>date</th>\n",
       "      <th>variation</th>\n",
       "      <th>verified_reviews</th>\n",
       "      <th>feedback</th>\n",
       "    </tr>\n",
       "  </thead>\n",
       "  <tbody>\n",
       "    <tr>\n",
       "      <th>0</th>\n",
       "      <td>5</td>\n",
       "      <td>31-Jul-18</td>\n",
       "      <td>Charcoal Fabric</td>\n",
       "      <td>Love my Echo!</td>\n",
       "      <td>1</td>\n",
       "    </tr>\n",
       "    <tr>\n",
       "      <th>1</th>\n",
       "      <td>5</td>\n",
       "      <td>31-Jul-18</td>\n",
       "      <td>Charcoal Fabric</td>\n",
       "      <td>Loved it!</td>\n",
       "      <td>1</td>\n",
       "    </tr>\n",
       "    <tr>\n",
       "      <th>2</th>\n",
       "      <td>4</td>\n",
       "      <td>31-Jul-18</td>\n",
       "      <td>Walnut Finish</td>\n",
       "      <td>Sometimes while playing a game, you can answer...</td>\n",
       "      <td>1</td>\n",
       "    </tr>\n",
       "    <tr>\n",
       "      <th>3</th>\n",
       "      <td>5</td>\n",
       "      <td>31-Jul-18</td>\n",
       "      <td>Charcoal Fabric</td>\n",
       "      <td>I have had a lot of fun with this thing. My 4 ...</td>\n",
       "      <td>1</td>\n",
       "    </tr>\n",
       "    <tr>\n",
       "      <th>4</th>\n",
       "      <td>5</td>\n",
       "      <td>31-Jul-18</td>\n",
       "      <td>Charcoal Fabric</td>\n",
       "      <td>Music</td>\n",
       "      <td>1</td>\n",
       "    </tr>\n",
       "  </tbody>\n",
       "</table>\n",
       "</div>"
      ],
      "text/plain": [
       "   rating       date         variation  \\\n",
       "0       5  31-Jul-18  Charcoal Fabric    \n",
       "1       5  31-Jul-18  Charcoal Fabric    \n",
       "2       4  31-Jul-18    Walnut Finish    \n",
       "3       5  31-Jul-18  Charcoal Fabric    \n",
       "4       5  31-Jul-18  Charcoal Fabric    \n",
       "\n",
       "                                    verified_reviews  feedback  \n",
       "0                                      Love my Echo!         1  \n",
       "1                                          Loved it!         1  \n",
       "2  Sometimes while playing a game, you can answer...         1  \n",
       "3  I have had a lot of fun with this thing. My 4 ...         1  \n",
       "4                                              Music         1  "
      ]
     },
     "execution_count": 25,
     "metadata": {},
     "output_type": "execute_result"
    }
   ],
   "source": [
    "# Top 5 records\n",
    "df_amazon.head()"
   ]
  },
  {
   "cell_type": "code",
   "execution_count": 26,
   "metadata": {},
   "outputs": [
    {
     "data": {
      "text/plain": [
       "(3150, 5)"
      ]
     },
     "execution_count": 26,
     "metadata": {},
     "output_type": "execute_result"
    }
   ],
   "source": [
    "# shape of dataframe\n",
    "df_amazon.shape"
   ]
  },
  {
   "cell_type": "code",
   "execution_count": 27,
   "metadata": {},
   "outputs": [
    {
     "name": "stdout",
     "output_type": "stream",
     "text": [
      "<class 'pandas.core.frame.DataFrame'>\n",
      "RangeIndex: 3150 entries, 0 to 3149\n",
      "Data columns (total 5 columns):\n",
      "rating              3150 non-null int64\n",
      "date                3150 non-null object\n",
      "variation           3150 non-null object\n",
      "verified_reviews    3150 non-null object\n",
      "feedback            3150 non-null int64\n",
      "dtypes: int64(2), object(3)\n",
      "memory usage: 123.1+ KB\n"
     ]
    }
   ],
   "source": [
    "# View data information\n",
    "df_amazon.info()"
   ]
  },
  {
   "cell_type": "code",
   "execution_count": 28,
   "metadata": {},
   "outputs": [
    {
     "data": {
      "text/plain": [
       "1    2893\n",
       "0     257\n",
       "Name: feedback, dtype: int64"
      ]
     },
     "execution_count": 28,
     "metadata": {},
     "output_type": "execute_result"
    }
   ],
   "source": [
    "# Feedback Value count\n",
    "df_amazon.feedback.value_counts()"
   ]
  },
  {
   "cell_type": "markdown",
   "metadata": {},
   "source": [
    "__Preprocesamiento con spacy__:\n",
    "\n",
    "Crearemos una función personalizada <code>spacy_tokenizer()</code> que acepta una frase como entrada y la procesa en tokens, realizando lemmatización, minúsculas y eliminando palabras stop-words."
   ]
  },
  {
   "cell_type": "code",
   "execution_count": 41,
   "metadata": {},
   "outputs": [],
   "source": [
    "import spacy\n",
    "import string\n",
    "from spacy.lang.en.stop_words import STOP_WORDS\n",
    "from spacy.lang.en import English\n",
    "\n",
    "# Create our list of punctuation marks\n",
    "punctuations = string.punctuation\n",
    "\n",
    "# Create our list of stopwords\n",
    "nlp = spacy.load('en_core_web_sm')\n",
    "stop_words = spacy.lang.en.stop_words.STOP_WORDS\n",
    "\n",
    "# Load English tokenizer, tagger, parser, NER and word vectors\n",
    "parser = English()\n",
    "\n",
    "# Creating our tokenizer function\n",
    "def spacy_tokenizer(sentence):\n",
    "    # Creating our token object, which is used to create documents with linguistic annotations.\n",
    "    mytokens = parser(sentence)\n",
    "\n",
    "    # Lemmatizing each token and converting each token into lowercase\n",
    "    mytokens = [ word.lemma_.lower().strip() if word.lemma_ != \"-PRON-\" else word.lower_ for word in mytokens ]\n",
    "\n",
    "    # Removing stop words\n",
    "    mytokens = [ word for word in mytokens if word not in stop_words and word not in punctuations ]\n",
    "\n",
    "    # return preprocessed list of tokens\n",
    "    return mytokens"
   ]
  },
  {
   "cell_type": "markdown",
   "metadata": {},
   "source": [
    "#### Vectorización de los textos en BoW o TF-IDF, con scikit-learn\n",
    "\n",
    "Podemos generar una matriz BoW para nuestros datos de texto usando la clase <code>CountVectorizer</code> de scikit-learn. En el código de abajo, le decimos a CountVectorizer que use la función personalizada spacy_tokenizer que construimos como su tokenizer, y que defina el rango de ngramo que queremos.\n",
    "\n",
    "Los N-gramas son combinaciones de palabras adyacentes en un texto dado, donde _n_ es el número de palabras que se incluyen en las fichas. Por ejemplo, en la frase \"¿Quién ganará la Copa del Mundo de fútbol en 2022? Bigramas sería una secuencia de dos palabras contiguas como \"quién ganará\", \"ganará la\", y así sucesivamente. Así que el parámetro ngram_range que usaremos en el código de abajo establece los límites inferior y superior de nuestros ngramas (usaremos unigramas). Entonces asignaremos los ngramas a bow_vector."
   ]
  },
  {
   "cell_type": "code",
   "execution_count": 44,
   "metadata": {},
   "outputs": [],
   "source": [
    "bow_vector = CountVectorizer(tokenizer = spacy_tokenizer, ngram_range=(1,1))"
   ]
  },
  {
   "cell_type": "markdown",
   "metadata": {},
   "source": [
    "Podriamos también transformar los textos en vectores para tener los pesos TF-IDF de cada palabra en cada documento:"
   ]
  },
  {
   "cell_type": "code",
   "execution_count": 45,
   "metadata": {},
   "outputs": [],
   "source": [
    "tfidf_vector = TfidfVectorizer(tokenizer = spacy_tokenizer)"
   ]
  },
  {
   "cell_type": "markdown",
   "metadata": {},
   "source": [
    "#### Partición de los datos en conjuntos de entrenamiento y test para entrenar y evaluar un modelo predictivo\n",
    "\n",
    "Usaremos la mitad de nuestro conjunto de datos como nuestro conjunto de entrenamiento, que incluirá las respuestas correctas. Luego probaremos nuestro modelo usando la otra mitad del conjunto de datos sin darle las respuestas, para ver con qué precisión funciona.\n",
    "\n",
    "Convenientemente, scikit-learn nos da una función incorporada para hacer esto: train_test_split(). Sólo necesitamos decirle el conjunto de características que queremos que se divida (X), las etiquetas contra las que queremos que se realice la prueba (ylabels), y el tamaño que queremos usar para el conjunto de pruebas (representado como un porcentaje en forma decimal)."
   ]
  },
  {
   "cell_type": "code",
   "execution_count": 46,
   "metadata": {},
   "outputs": [],
   "source": [
    "from sklearn.model_selection import train_test_split\n",
    "\n",
    "X = df_amazon['verified_reviews'] # the features we want to analyze\n",
    "ylabels = df_amazon['feedback'] # the labels, or answers, we want to test against\n",
    "\n",
    "X_train, X_test, y_train, y_test = train_test_split(X, ylabels, test_size=0.5)"
   ]
  },
  {
   "cell_type": "markdown",
   "metadata": {},
   "source": [
    "#### Creación de un pipeline y generación del modelo\n",
    "\n",
    "Es el momento de construir nuestro modelo predictivo. Empezaremos importando el módulo LogisticRegression y creando un objeto clasificador LogisticRegression.\n",
    "\n",
    "__Para revisar sobre qué aprende y cómo aprendre el algorítmo de regresión logística: [slides](https://docs.google.com/presentation/d/11O3ud6ywHuaro6OemhyeH07nuJtdc4ybMuTJicnMnm8/edit?usp=sharing)__\n",
    "\n",
    "Luego, crearemos un pipeline de procesamiento con dos componentes: un vectorizador y algoritmo de clasificación basado en la regresión logística. El vectorizador utiliza preprocesamientos (spacy) y vectorización (scikit-learn) para crear una matriz para representar nuestros textos.\n",
    "\n",
    "Una vez que se construya este pipeline, se aprende el modelo predictivo llamando el método <code>fit()</code>."
   ]
  },
  {
   "cell_type": "code",
   "execution_count": 47,
   "metadata": {},
   "outputs": [
    {
     "name": "stderr",
     "output_type": "stream",
     "text": [
      "/home/mvernier/.local/lib/python3.5/site-packages/sklearn/linear_model/logistic.py:433: FutureWarning: Default solver will be changed to 'lbfgs' in 0.22. Specify a solver to silence this warning.\n",
      "  FutureWarning)\n"
     ]
    },
    {
     "data": {
      "text/plain": [
       "Pipeline(memory=None,\n",
       "     steps=[('preprocessing', CountVectorizer(analyzer='word', binary=False, decode_error='strict',\n",
       "        dtype=<class 'numpy.int64'>, encoding='utf-8', input='content',\n",
       "        lowercase=True, max_df=1.0, max_features=None, min_df=1,\n",
       "        ngram_range=(1, 1), preprocessor=None, stop_words=None,\n",
       "    ...penalty='l2', random_state=None, solver='warn',\n",
       "          tol=0.0001, verbose=0, warm_start=False))])"
      ]
     },
     "execution_count": 47,
     "metadata": {},
     "output_type": "execute_result"
    }
   ],
   "source": [
    "# Logistic Regression Classifier\n",
    "from sklearn.linear_model import LogisticRegression\n",
    "modelLR = LogisticRegression()\n",
    "\n",
    "# Create pipeline using Bag of Words\n",
    "pipe = Pipeline([('preprocessing', bow_vector),\n",
    "                 ('regression-ML', modelLR)])\n",
    "\n",
    "# model generation\n",
    "pipe.fit(X_train,y_train)"
   ]
  },
  {
   "cell_type": "markdown",
   "metadata": {},
   "source": [
    "#### Evaluación del modelo\n",
    "\n",
    "Podemos evaluar el rendimiento de nuestro modelo usando el módulo de métricas de scikit-learn. Ahora que hemos entrenado nuestro modelo, pondremos nuestros datos de prueba a disposición para hacer predicciones. Luego usaremos varias funciones del módulo de métricas para ver la exactitud, precisión y recall de nuestro modelo."
   ]
  },
  {
   "cell_type": "code",
   "execution_count": 48,
   "metadata": {},
   "outputs": [
    {
     "name": "stdout",
     "output_type": "stream",
     "text": [
      "[1 1 1 ... 1 1 1]\n",
      "Logistic Regression Accuracy: 0.932063492063492\n",
      "Logistic Regression Precision: 0.9347258485639687\n",
      "Logistic Regression Recall: 0.995135510771369\n"
     ]
    }
   ],
   "source": [
    "from sklearn import metrics\n",
    "# Predicting with a test dataset\n",
    "predicted = pipe.predict(X_test)\n",
    "print(predicted)\n",
    "\n",
    "# Model Accuracy\n",
    "print(\"Logistic Regression Accuracy:\",metrics.accuracy_score(y_test, predicted))\n",
    "print(\"Logistic Regression Precision:\",metrics.precision_score(y_test, predicted))\n",
    "print(\"Logistic Regression Recall:\",metrics.recall_score(y_test, predicted))"
   ]
  },
  {
   "cell_type": "code",
   "execution_count": 49,
   "metadata": {},
   "outputs": [
    {
     "name": "stdout",
     "output_type": "stream",
     "text": [
      "[[  36  100]\n",
      " [   7 1432]]\n",
      "              precision    recall  f1-score   support\n",
      "\n",
      "           0       0.84      0.26      0.40       136\n",
      "           1       0.93      1.00      0.96      1439\n",
      "\n",
      "   micro avg       0.93      0.93      0.93      1575\n",
      "   macro avg       0.89      0.63      0.68      1575\n",
      "weighted avg       0.93      0.93      0.92      1575\n",
      "\n"
     ]
    }
   ],
   "source": [
    "#Evaluación del rendimiento del clasificador\n",
    "from sklearn.metrics import confusion_matrix\n",
    "confusion_matrix = confusion_matrix(y_test, predicted)\n",
    "print(confusion_matrix)\n",
    "#Print de la matriz de confusión\n",
    "from sklearn.metrics import classification_report\n",
    "print(classification_report(y_test, predicted))"
   ]
  },
  {
   "cell_type": "code",
   "execution_count": 50,
   "metadata": {},
   "outputs": [],
   "source": [
    "def printNMostInformative(vectorizer, model, N):\n",
    "    feature_names = vectorizer.get_feature_names()\n",
    "    coefs_with_fns = sorted(zip(model.coef_[0], feature_names))\n",
    "    topClass1 = coefs_with_fns[:N]\n",
    "    topClass2 = coefs_with_fns[:-(N + 1):-1]\n",
    "    print(\"Class 1 best: \")\n",
    "    for feat in topClass1:\n",
    "        print(feat)\n",
    "    print(\"Class 2 best: \")\n",
    "    for feat in topClass2:\n",
    "        print(feat)"
   ]
  },
  {
   "cell_type": "code",
   "execution_count": 51,
   "metadata": {},
   "outputs": [
    {
     "name": "stdout",
     "output_type": "stream",
     "text": [
      "Class 1 best: \n",
      "(-1.452524416544558, 'return')\n",
      "(-1.3312122112316078, 'terrible')\n",
      "(-1.3181830853750844, 'speak')\n",
      "(-1.0500363160276491, 'stop')\n",
      "(-1.0360541301087618, 'cheap')\n",
      "(-1.0314791208755418, 'respond')\n",
      "(-1.0149605377185678, 'refurbish')\n",
      "(-0.9881595672560024, 'siri')\n",
      "(-0.9315299528885995, 'unplug')\n",
      "(-0.9183167022005564, 'hardly')\n",
      "(-0.9181124730038427, ':(')\n",
      "(-0.907113123955759, 'money')\n",
      "(-0.8942873156841908, '..')\n",
      "(-0.8303874022605502, 'disappoint')\n",
      "(-0.8276563452743237, 'useless')\n",
      "(-0.8178673059824924, 'battery')\n",
      "(-0.8131781719549842, 'intrusive')\n",
      "(-0.7924646094692669, 'smooth')\n",
      "(-0.7917393182228665, 'replace')\n",
      "(-0.7757556547601124, 'time')\n",
      "Class 2 best: \n",
      "(2.162507476189507, 'love')\n",
      "(1.799749792443204, 'easy')\n",
      "(1.656809889906331, 'great')\n",
      "(1.404077612511362, 'good')\n",
      "(1.0485477059632367, 'amaze')\n",
      "(0.9551852108016051, 'learn')\n",
      "(0.9362917658684073, 'perfect')\n",
      "(0.9297902652270952, '’s')\n",
      "(0.926666899829566, 'enjoy')\n",
      "(0.9211783001857794, 'little')\n",
      "(0.9048270404840838, 'expect')\n",
      "(0.8350050093989755, 'tv')\n",
      "(0.8224637361046386, 'fun')\n",
      "(0.7902471732153753, 'link')\n",
      "(0.7875909837615365, 'command')\n",
      "(0.6880123677572251, 'video')\n",
      "(0.6818858458841827, 'thank')\n",
      "(0.6374102915372742, 'nice')\n",
      "(0.6204935935512834, 'issue')\n",
      "(0.608596029261281, 'read')\n"
     ]
    }
   ],
   "source": [
    "printNMostInformative(bow_vector, modelLR, 20)"
   ]
  },
  {
   "cell_type": "markdown",
   "metadata": {},
   "source": [
    "## 8. Ejercicios 'simples' para practicar\n",
    "\n",
    "Datasets: [latercera0.csv](https://drive.google.com/file/d/18uxulc23NQTVAjUKIygAZI3WYpeKsrBh/view?usp=sharing), [lacuarta1.csv](https://drive.google.com/file/d/1YyLVD-WD1oNtUA50dR0QgYLirwzuq12G/view?usp=sharing), [eldesconcierto2.csv](https://drive.google.com/file/d/10PVs3Gcd5a5zUUjNGPVjM6BrR1Uehu38/view?usp=sharing)\n",
    "\n",
    "1. Mostrar los 10, 20 y 50 sustantivos más frecuentes en el medio La Tercera. Tratar de visualizar la distribución de estos sustantivos en un histograma ordenado.\n",
    "1. ¿Cómo se distribuyen las categorías gramaticales (POS tags) en La Tercera? ¿Se diferencia de otros medios?\n",
    "1. ¿Cuáles son las palabras más frecuentes en cada medio (filtrando los stop-words)?"
   ]
  },
  {
   "cell_type": "markdown",
   "metadata": {},
   "source": [
    "## 9. Ejercicio: clasificar noticias de prensa en 2 temáticas\n",
    "\n",
    "- Pregunta de investigación: ¿podemos aprender un modelo capaz de reconocer el estílo de cada medio (latercera vs. lacuarta, latercera vs. eldesconscierto, o lacuarta vs. eldesconcierto)\n",
    "\n",
    "Aprender un modelo para clasificar una noticia según su fuente probable."
   ]
  },
  {
   "cell_type": "code",
   "execution_count": null,
   "metadata": {},
   "outputs": [],
   "source": []
  }
 ],
 "metadata": {
  "celltoolbar": "Raw Cell Format",
  "kernelspec": {
   "display_name": ".base_datos",
   "language": "python",
   "name": ".base_datos"
  },
  "language_info": {
   "codemirror_mode": {
    "name": "ipython",
    "version": 3
   },
   "file_extension": ".py",
   "mimetype": "text/x-python",
   "name": "python",
   "nbconvert_exporter": "python",
   "pygments_lexer": "ipython3",
   "version": "3.7.3"
  }
 },
 "nbformat": 4,
 "nbformat_minor": 2
}
